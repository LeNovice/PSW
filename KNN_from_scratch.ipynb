{
  "nbformat": 4,
  "nbformat_minor": 0,
  "metadata": {
    "colab": {
      "name": "PinakW_Assignment_2_ML_From_Himanshu.ipynb",
      "provenance": [],
      "collapsed_sections": [],
      "include_colab_link": true
    },
    "kernelspec": {
      "name": "python3",
      "display_name": "Python 3"
    },
    "language_info": {
      "name": "python"
    }
  },
  "cells": [
    {
      "cell_type": "markdown",
      "metadata": {
        "id": "view-in-github",
        "colab_type": "text"
      },
      "source": [
        "<a href=\"https://colab.research.google.com/github/LeNovice/PSW/blob/main/KNN_from_scratch.ipynb\" target=\"_parent\"><img src=\"https://colab.research.google.com/assets/colab-badge.svg\" alt=\"Open In Colab\"/></a>"
      ]
    },
    {
      "cell_type": "code",
      "source": [
        "import pandas as pd\n",
        "from sklearn.model_selection import train_test_split, KFold\n",
        "import matplotlib.pyplot as plt\n",
        "import seaborn as sns"
      ],
      "metadata": {
        "id": "qKDVxAv479jP"
      },
      "execution_count": 188,
      "outputs": []
    },
    {
      "cell_type": "markdown",
      "source": [
        "1. Load the dataset and describe it."
      ],
      "metadata": {
        "id": "OSxA0gWB4p0u"
      }
    },
    {
      "cell_type": "code",
      "execution_count": 189,
      "metadata": {
        "colab": {
          "base_uri": "https://localhost:8080/",
          "height": 300
        },
        "id": "uU9f-3Qi4O3P",
        "outputId": "4491309d-e6d4-47d5-903e-44acd232551e"
      },
      "outputs": [
        {
          "output_type": "execute_result",
          "data": {
            "text/html": [
              "\n",
              "  <div id=\"df-81986400-0586-42fa-aa12-2175be51c68c\">\n",
              "    <div class=\"colab-df-container\">\n",
              "      <div>\n",
              "<style scoped>\n",
              "    .dataframe tbody tr th:only-of-type {\n",
              "        vertical-align: middle;\n",
              "    }\n",
              "\n",
              "    .dataframe tbody tr th {\n",
              "        vertical-align: top;\n",
              "    }\n",
              "\n",
              "    .dataframe thead th {\n",
              "        text-align: right;\n",
              "    }\n",
              "</style>\n",
              "<table border=\"1\" class=\"dataframe\">\n",
              "  <thead>\n",
              "    <tr style=\"text-align: right;\">\n",
              "      <th></th>\n",
              "      <th>SepalLengthCm</th>\n",
              "      <th>SepalWidthCm</th>\n",
              "      <th>PetalLengthCm</th>\n",
              "      <th>PetalWidthCm</th>\n",
              "    </tr>\n",
              "  </thead>\n",
              "  <tbody>\n",
              "    <tr>\n",
              "      <th>count</th>\n",
              "      <td>150.000000</td>\n",
              "      <td>150.000000</td>\n",
              "      <td>150.000000</td>\n",
              "      <td>150.000000</td>\n",
              "    </tr>\n",
              "    <tr>\n",
              "      <th>mean</th>\n",
              "      <td>5.843333</td>\n",
              "      <td>3.054000</td>\n",
              "      <td>3.758667</td>\n",
              "      <td>1.198667</td>\n",
              "    </tr>\n",
              "    <tr>\n",
              "      <th>std</th>\n",
              "      <td>0.828066</td>\n",
              "      <td>0.433594</td>\n",
              "      <td>1.764420</td>\n",
              "      <td>0.763161</td>\n",
              "    </tr>\n",
              "    <tr>\n",
              "      <th>min</th>\n",
              "      <td>4.300000</td>\n",
              "      <td>2.000000</td>\n",
              "      <td>1.000000</td>\n",
              "      <td>0.100000</td>\n",
              "    </tr>\n",
              "    <tr>\n",
              "      <th>25%</th>\n",
              "      <td>5.100000</td>\n",
              "      <td>2.800000</td>\n",
              "      <td>1.600000</td>\n",
              "      <td>0.300000</td>\n",
              "    </tr>\n",
              "    <tr>\n",
              "      <th>50%</th>\n",
              "      <td>5.800000</td>\n",
              "      <td>3.000000</td>\n",
              "      <td>4.350000</td>\n",
              "      <td>1.300000</td>\n",
              "    </tr>\n",
              "    <tr>\n",
              "      <th>75%</th>\n",
              "      <td>6.400000</td>\n",
              "      <td>3.300000</td>\n",
              "      <td>5.100000</td>\n",
              "      <td>1.800000</td>\n",
              "    </tr>\n",
              "    <tr>\n",
              "      <th>max</th>\n",
              "      <td>7.900000</td>\n",
              "      <td>4.400000</td>\n",
              "      <td>6.900000</td>\n",
              "      <td>2.500000</td>\n",
              "    </tr>\n",
              "  </tbody>\n",
              "</table>\n",
              "</div>\n",
              "      <button class=\"colab-df-convert\" onclick=\"convertToInteractive('df-81986400-0586-42fa-aa12-2175be51c68c')\"\n",
              "              title=\"Convert this dataframe to an interactive table.\"\n",
              "              style=\"display:none;\">\n",
              "        \n",
              "  <svg xmlns=\"http://www.w3.org/2000/svg\" height=\"24px\"viewBox=\"0 0 24 24\"\n",
              "       width=\"24px\">\n",
              "    <path d=\"M0 0h24v24H0V0z\" fill=\"none\"/>\n",
              "    <path d=\"M18.56 5.44l.94 2.06.94-2.06 2.06-.94-2.06-.94-.94-2.06-.94 2.06-2.06.94zm-11 1L8.5 8.5l.94-2.06 2.06-.94-2.06-.94L8.5 2.5l-.94 2.06-2.06.94zm10 10l.94 2.06.94-2.06 2.06-.94-2.06-.94-.94-2.06-.94 2.06-2.06.94z\"/><path d=\"M17.41 7.96l-1.37-1.37c-.4-.4-.92-.59-1.43-.59-.52 0-1.04.2-1.43.59L10.3 9.45l-7.72 7.72c-.78.78-.78 2.05 0 2.83L4 21.41c.39.39.9.59 1.41.59.51 0 1.02-.2 1.41-.59l7.78-7.78 2.81-2.81c.8-.78.8-2.07 0-2.86zM5.41 20L4 18.59l7.72-7.72 1.47 1.35L5.41 20z\"/>\n",
              "  </svg>\n",
              "      </button>\n",
              "      \n",
              "  <style>\n",
              "    .colab-df-container {\n",
              "      display:flex;\n",
              "      flex-wrap:wrap;\n",
              "      gap: 12px;\n",
              "    }\n",
              "\n",
              "    .colab-df-convert {\n",
              "      background-color: #E8F0FE;\n",
              "      border: none;\n",
              "      border-radius: 50%;\n",
              "      cursor: pointer;\n",
              "      display: none;\n",
              "      fill: #1967D2;\n",
              "      height: 32px;\n",
              "      padding: 0 0 0 0;\n",
              "      width: 32px;\n",
              "    }\n",
              "\n",
              "    .colab-df-convert:hover {\n",
              "      background-color: #E2EBFA;\n",
              "      box-shadow: 0px 1px 2px rgba(60, 64, 67, 0.3), 0px 1px 3px 1px rgba(60, 64, 67, 0.15);\n",
              "      fill: #174EA6;\n",
              "    }\n",
              "\n",
              "    [theme=dark] .colab-df-convert {\n",
              "      background-color: #3B4455;\n",
              "      fill: #D2E3FC;\n",
              "    }\n",
              "\n",
              "    [theme=dark] .colab-df-convert:hover {\n",
              "      background-color: #434B5C;\n",
              "      box-shadow: 0px 1px 3px 1px rgba(0, 0, 0, 0.15);\n",
              "      filter: drop-shadow(0px 1px 2px rgba(0, 0, 0, 0.3));\n",
              "      fill: #FFFFFF;\n",
              "    }\n",
              "  </style>\n",
              "\n",
              "      <script>\n",
              "        const buttonEl =\n",
              "          document.querySelector('#df-81986400-0586-42fa-aa12-2175be51c68c button.colab-df-convert');\n",
              "        buttonEl.style.display =\n",
              "          google.colab.kernel.accessAllowed ? 'block' : 'none';\n",
              "\n",
              "        async function convertToInteractive(key) {\n",
              "          const element = document.querySelector('#df-81986400-0586-42fa-aa12-2175be51c68c');\n",
              "          const dataTable =\n",
              "            await google.colab.kernel.invokeFunction('convertToInteractive',\n",
              "                                                     [key], {});\n",
              "          if (!dataTable) return;\n",
              "\n",
              "          const docLinkHtml = 'Like what you see? Visit the ' +\n",
              "            '<a target=\"_blank\" href=https://colab.research.google.com/notebooks/data_table.ipynb>data table notebook</a>'\n",
              "            + ' to learn more about interactive tables.';\n",
              "          element.innerHTML = '';\n",
              "          dataTable['output_type'] = 'display_data';\n",
              "          await google.colab.output.renderOutput(dataTable, element);\n",
              "          const docLink = document.createElement('div');\n",
              "          docLink.innerHTML = docLinkHtml;\n",
              "          element.appendChild(docLink);\n",
              "        }\n",
              "      </script>\n",
              "    </div>\n",
              "  </div>\n",
              "  "
            ],
            "text/plain": [
              "       SepalLengthCm  SepalWidthCm  PetalLengthCm  PetalWidthCm\n",
              "count     150.000000    150.000000     150.000000    150.000000\n",
              "mean        5.843333      3.054000       3.758667      1.198667\n",
              "std         0.828066      0.433594       1.764420      0.763161\n",
              "min         4.300000      2.000000       1.000000      0.100000\n",
              "25%         5.100000      2.800000       1.600000      0.300000\n",
              "50%         5.800000      3.000000       4.350000      1.300000\n",
              "75%         6.400000      3.300000       5.100000      1.800000\n",
              "max         7.900000      4.400000       6.900000      2.500000"
            ]
          },
          "metadata": {},
          "execution_count": 189
        }
      ],
      "source": [
        "data = pd.read_csv(\"https://raw.githubusercontent.com/PinakW/Chronic_Kidney_disease/main/Iris.csv\", index_col=0)\n",
        "iris_df = pd.DataFrame(data)\n",
        "iris_df.describe()"
      ]
    },
    {
      "cell_type": "markdown",
      "source": [
        "2. Split the data as per 80:20 ratios of training and test set."
      ],
      "metadata": {
        "id": "VuF_f6YN4wH-"
      }
    },
    {
      "cell_type": "code",
      "source": [
        "X = iris_df.iloc[:, 0:4]\n",
        "y = iris_df.iloc[:, -1]\n",
        "X_train, X_test, y_train, y_test = train_test_split(X, y, test_size=0.20, random_state=10)"
      ],
      "metadata": {
        "id": "E11Glgtn5Lh5"
      },
      "execution_count": 190,
      "outputs": []
    },
    {
      "cell_type": "markdown",
      "source": [
        "3. Normalize the dataset. Visualize the dataset before and after normalization."
      ],
      "metadata": {
        "id": "Y8WGKuVU4zEX"
      }
    },
    {
      "cell_type": "code",
      "source": [
        "#For nominal attribute encoding to numerical values and Normalization of Numberical attributes\n",
        "from sklearn.preprocessing import LabelEncoder, StandardScaler\n",
        "import numpy as np"
      ],
      "metadata": {
        "id": "tlLyVm1iubW2"
      },
      "execution_count": 191,
      "outputs": []
    },
    {
      "cell_type": "code",
      "source": [
        "# Plot before Normalization\n",
        "#pre_norm = sns.pairplot(iris_df, hue= 'Species')\n",
        "#pre_norm.fig.suptitle('Visualization of dataset before normalization:', y = 1.05)\n",
        "\n",
        "# Normalize X\n",
        "scaler = StandardScaler()\n",
        "scaler.fit(X_train)\n",
        "X_train_normalized = scaler.transform(X_train)\n",
        "\n",
        "# Encode y to Nominal values\n",
        "labelencoder = LabelEncoder()\n",
        "labelencoder.fit(y_train)\n",
        "y_train_encoded = labelencoder.transform(y_train)\n",
        "\n",
        "# Create dataframe for normalized features and target\n",
        "iris_df_after = pd.DataFrame(data = np.c_[X_train_normalized, y_train_encoded], columns = iris_df.columns)\n",
        "\n",
        "# Map the nominal values of y to their real names for plotting purpose\n",
        "map = {0.0 : 'Iris - setosa', 1.0 : 'Iris - versicolor', 2.0 : 'Iris - virginica'}\n",
        "\n",
        "# Plot after normalization\n",
        "#post_norm = sns.pairplot(iris_df_after.replace({'Species': map}), hue = 'Species')\n",
        "#post_norm.fig.suptitle('Visualization of dataset after normalization:', y = 1.05)"
      ],
      "metadata": {
        "id": "REeTWQ97Wd2J"
      },
      "execution_count": 192,
      "outputs": []
    },
    {
      "cell_type": "code",
      "source": [
        "# #delete later:\n",
        "# train_DF = X_train_normalized\n",
        "# display(train_DF)\n",
        "# train_DF = train_DF.merge(y_train_encoded, left_index=True, right_index=True)\n",
        "# #train_DF = X_train_normalized.join(y_train_encoded)\n",
        "# train_DF.plot.scatter(x = 'SepalWidthCm', y = y_train_encoded.name)        #SepalLengthCm\tSepalWidthCm\tPetalLengthCm\tPetalWidthCm"
      ],
      "metadata": {
        "id": "WRammSuc_NI3"
      },
      "execution_count": 193,
      "outputs": []
    },
    {
      "cell_type": "markdown",
      "source": [
        "4. Calculate Similarity based on distance function of your choice"
      ],
      "metadata": {
        "id": "IPo3cf0O48Ez"
      }
    },
    {
      "cell_type": "code",
      "source": [
        " #Euclidean distance between two datapoints\n",
        "def Euclid_distance(dt_pt1, dt_pt2):\n",
        "    \"\"\"\n",
        "    Input:\n",
        "        Two Data points which are basically two row entries in the DataFrame\n",
        "    Output:\n",
        "        Euclidean Distance between them\n",
        "    \"\"\"\n",
        "    #Check if both the data points have same columns (Attributes):\n",
        "    if(len(dt_pt1) != len(dt_pt2)):\n",
        "        exit(\"Euclid_distance: Data points inconsistent. Received Data points with different attributes\")\n",
        "    current_distance = 0\n",
        "    for col in range(len(dt_pt1)):\n",
        "        ## Loop over the columns of the row\n",
        "        current_distance += (dt_pt1[col] - dt_pt2[col]) **2\n",
        "        ## Or current_distance = current_distance + (x_train[i] - x_test_point[i])**2\n",
        "\n",
        "    return np.sqrt(current_distance)"
      ],
      "metadata": {
        "id": "6_HPzNCC5P2q"
      },
      "execution_count": 194,
      "outputs": []
    },
    {
      "cell_type": "markdown",
      "source": [
        "5. Define a function to return k- nearest neighbors"
      ],
      "metadata": {
        "id": "YdW4MCwl4-C6"
      }
    },
    {
      "cell_type": "code",
      "source": [
        "from heapq import heappush, heappop\n",
        "#import numpy as np"
      ],
      "metadata": {
        "id": "6I7ApNfxKzIJ"
      },
      "execution_count": 195,
      "outputs": []
    },
    {
      "cell_type": "code",
      "source": [
        "def Nearest_K(x_train, x_test_point, K=5):\n",
        "    \"\"\"\n",
        "    Input:\n",
        "        x_train: Input training data\n",
        "        x_test_point: test point which is to be classified (x_test_point)\n",
        "    Output:\n",
        "        Indices of nearest K neighbours corresponding to x_test_point\n",
        "    \"\"\"\n",
        "    ## Create a min-heap of tuple: (distance, index) for x_test_point against every other training point\n",
        "    #tuple_distance_index is a min-heap compared w.r.t distance first and then index.\n",
        "    tuple_distance_index = [] \n",
        "    for index, row in enumerate(x_train):\n",
        "        heappush(tuple_distance_index, (Euclid_distance(row , x_test_point), index))\n",
        "    #Indices of K-nearest array corresponding to x_test_point:\n",
        "    KNN_array = []\n",
        "    for i in range(K):\n",
        "        KNN_array.append(heappop(tuple_distance_index)[-1])\n",
        "    return KNN_array"
      ],
      "metadata": {
        "id": "nOrRRb175Qao"
      },
      "execution_count": 196,
      "outputs": []
    },
    {
      "cell_type": "code",
      "source": [
        "def predict_y(y_train, KNN_array_indices):\n",
        "    \"\"\"\n",
        "    predicts the value based on majority of neighbouring classes.\n",
        "    Input \n",
        "        Indices which are nearest to given point.\n",
        "    Output\n",
        "        The predicted value of given point\n",
        "    \"\"\"\n",
        "    y_vals = y_train[KNN_array_indices]\n",
        "    #hash_array will house the number of occurences of each class\n",
        "    hash_array = []\n",
        "    #find the maximum occuring elemnt in y_vals\n",
        "    for j in range(len(np.unique(y_train))):\n",
        "        hash_array.append(0)\n",
        "    for i in y_vals:\n",
        "        hash_array[i] = hash_array[i] + 1\n",
        "    return hash_array.index(max(hash_array))\n"
      ],
      "metadata": {
        "id": "at9LAzO-gbNV"
      },
      "execution_count": 197,
      "outputs": []
    },
    {
      "cell_type": "code",
      "source": [
        "def KNN_from_scratch(x_train, y_train, x_test, K):\n",
        "\n",
        "    \"\"\"\n",
        "    KNN implementation from scratch. \n",
        "    Input:\n",
        "        Normalized train and test X.\n",
        "        Encoded train Y \n",
        "    Output:\n",
        "        An array of predicted class values.\n",
        "    \"\"\"\n",
        "\n",
        "    y_pred=[]\n",
        "\n",
        "    ## Loop over all the test set and perform the three steps\n",
        "    for x_test_point in x_test:\n",
        "        KNN_array_indices = Nearest_K(x_train, x_test_point, K)\n",
        "        y_pred.append(predict_y(y_train, KNN_array_indices))\n",
        "    return y_pred"
      ],
      "metadata": {
        "id": "EZxoAG8vgeS9"
      },
      "execution_count": 198,
      "outputs": []
    },
    {
      "cell_type": "markdown",
      "source": [
        "\n",
        "\n",
        "6. Test the KNN Algorithm on the test dataset"
      ],
      "metadata": {
        "id": "tPgL3cfh5ACv"
      }
    },
    {
      "cell_type": "code",
      "source": [
        "from sklearn.metrics import accuracy_score\n",
        "\n",
        "#Normalize test using Train fit\n",
        "X_test_normalized = scaler.transform(X_test)\n",
        "#Encode test using Train fit\n",
        "y_test_encoded = labelencoder.transform(y_test)\n",
        "\n",
        "K=3\n",
        "y_pred_scratch= KNN_from_scratch(X_train_normalized, y_train_encoded, X_test_normalized, K)\n",
        "print(y_pred_scratch)\n",
        "accuracy_score(y_test_encoded, y_pred_scratch)"
      ],
      "metadata": {
        "id": "x-o9P2LU5RCL",
        "colab": {
          "base_uri": "https://localhost:8080/"
        },
        "outputId": "e287ea82-2eaf-4610-cdd0-af863b09c6e0"
      },
      "execution_count": 199,
      "outputs": [
        {
          "output_type": "stream",
          "name": "stdout",
          "text": [
            "[1, 2, 0, 1, 0, 1, 2, 1, 0, 1, 1, 2, 1, 0, 0, 2, 1, 0, 0, 0, 2, 2, 2, 0, 1, 0, 1, 1, 1, 2]\n"
          ]
        },
        {
          "output_type": "execute_result",
          "data": {
            "text/plain": [
              "0.9666666666666667"
            ]
          },
          "metadata": {},
          "execution_count": 199
        }
      ]
    },
    {
      "cell_type": "markdown",
      "source": [
        "7. Compare your implementation with sklearn library. Also calculate the accuracy of both methods. Bring out your inference about both methods."
      ],
      "metadata": {
        "id": "tmFv2Y8c5EJ9"
      }
    },
    {
      "cell_type": "code",
      "source": [
        "from sklearn.neighbors import KNeighborsClassifier\n",
        "\n",
        "knn = KNeighborsClassifier(K)\n",
        "knn.fit(X_train_normalized, y_train_encoded)\n",
        "y_pred_sklearn= knn.predict(X_test_normalized)\n",
        "print(y_pred_sklearn)\n",
        "accuracy_score(y_test_encoded, y_pred_sklearn)"
      ],
      "metadata": {
        "id": "ORCq_S_e5Rsw",
        "colab": {
          "base_uri": "https://localhost:8080/"
        },
        "outputId": "83bdaaef-ad37-4493-da7f-d5b56068a156"
      },
      "execution_count": 200,
      "outputs": [
        {
          "output_type": "stream",
          "name": "stdout",
          "text": [
            "[1 2 0 1 0 1 2 1 0 1 1 2 1 0 0 2 1 0 0 0 2 2 2 0 1 0 1 1 1 2]\n"
          ]
        },
        {
          "output_type": "execute_result",
          "data": {
            "text/plain": [
              "0.9666666666666667"
            ]
          },
          "metadata": {},
          "execution_count": 200
        }
      ]
    },
    {
      "cell_type": "markdown",
      "source": [
        "8. Repeat the procedure with different values of K and find the best value."
      ],
      "metadata": {
        "id": "kC_LhR5x5DpE"
      }
    },
    {
      "cell_type": "code",
      "source": [
        "import matplotlib.pyplot as plt\n",
        "\n",
        "error_rate = []\n",
        "\n",
        "# Will take some time\n",
        "for i in range(1,40):\n",
        "    \n",
        "    knn = KNeighborsClassifier(n_neighbors=i)\n",
        "    knn.fit(X_train_normalized,y_train_encoded)\n",
        "    pred_i = knn.predict(X_test_normalized)\n",
        "    error_rate.append(np.mean(pred_i != y_test_encoded))\n",
        "\n",
        "plt.figure(figsize=(10,6))\n",
        "plt.plot(range(1,40),error_rate,color='blue', linestyle='dashed', marker='o',\n",
        "         markerfacecolor='red', markersize=10)\n",
        "plt.title('Error Rate vs. K Value')\n",
        "plt.xlabel('K')\n",
        "plt.ylabel('Error Rate')"
      ],
      "metadata": {
        "id": "tCXVVHl25SHJ",
        "colab": {
          "base_uri": "https://localhost:8080/",
          "height": 421
        },
        "outputId": "462de0aa-7d5e-4a1c-dfd6-4710930329a0"
      },
      "execution_count": 201,
      "outputs": [
        {
          "output_type": "execute_result",
          "data": {
            "text/plain": [
              "Text(0, 0.5, 'Error Rate')"
            ]
          },
          "metadata": {},
          "execution_count": 201
        },
        {
          "output_type": "display_data",
          "data": {
            "image/png": "[encoded data removed]",
            "text/plain": [
              "<Figure size 720x432 with 1 Axes>"
            ]
          },
          "metadata": {
            "needs_background": "light"
          }
        }
      ]
    },
    {
      "cell_type": "markdown",
      "source": [
        "9. Perform hyper-parameter tuning using K-fold Cross Validation"
      ],
      "metadata": {
        "id": "6GB2Ve0r5DZK"
      }
    },
    {
      "cell_type": "code",
      "source": [
        "\n",
        "n_splits = 5 ## Choose the number of splits\n",
        "kf = KFold(n_splits= n_splits, random_state=10, shuffle=True) ## Call the K Fold function\n",
        "\n",
        "accuracy_k= [] ## Keep track of the accuracy for each K\n",
        "k_values= list(range(1,30,2)) ## Search for the best value of K\n",
        "\n",
        "for k in k_values: ## Loop over the K values\n",
        "  accuracy_fold= 0\n",
        "  for normalized_x_train_fold_idx, normalized_x_valid_fold_idx in  kf.split(X_train_normalized): ## Loop over the splits\n",
        "      normalized_x_train_fold= X_train_normalized[normalized_x_train_fold_idx] ## fetch the values\n",
        "      y_train_fold = y_train_encoded[normalized_x_train_fold_idx]\n",
        "\n",
        "      normalized_x_test_fold= X_train_normalized[normalized_x_valid_fold_idx]\n",
        "      y_valid_fold= y_train_encoded[normalized_x_valid_fold_idx]\n",
        "      y_pred_fold= KNN_from_scratch(normalized_x_train_fold, y_train_fold, normalized_x_test_fold, k)\n",
        "\n",
        "      accuracy_fold+= accuracy_score (y_pred_fold, y_valid_fold) ## Accumulate the accuracy\n",
        "  accuracy_fold= accuracy_fold/ n_splits ## Divide by the number of splits\n",
        "  accuracy_k.append(accuracy_fold)\n",
        "\n",
        "print(f'The accuracy for each K value was {list ( zip (accuracy_k, k_values))}')\n",
        "\n",
        "print(f'Best accuracy was {np.max(accuracy_k)}, which corresponds to a value of K= {k_values[np.argmax(accuracy_k)]}')"
      ],
      "metadata": {
        "id": "Fih1mqOg5S6v",
        "colab": {
          "base_uri": "https://localhost:8080/"
        },
        "outputId": "212060a2-2ee2-4d28-cf6b-7f56afa68298"
      },
      "execution_count": 202,
      "outputs": [
        {
          "output_type": "stream",
          "name": "stdout",
          "text": [
            "The accuracy for each K value was [(0.925, 1), (0.95, 3), (0.9416666666666668, 5), (0.95, 7), (0.95, 9), (0.95, 11), (0.95, 13), (0.95, 15), (0.925, 17), (0.9333333333333332, 19), (0.925, 21), (0.9166666666666666, 23), (0.9, 25), (0.8916666666666668, 27), (0.9, 29)]\n",
            "Best accuracy was 0.95, which corresponds to a value of K= 3\n"
          ]
        }
      ]
    },
    {
      "cell_type": "markdown",
      "source": [
        "10. Use the test set and the optimal hyper-parameters to compute the final accuracy."
      ],
      "metadata": {
        "id": "M8ZHtoxu5C_g"
      }
    },
    {
      "cell_type": "code",
      "source": [
        "K=k_values[np.argmax(accuracy_k)]\n",
        "print(f\"Accuracy corresponding to K = {K}\")\n",
        "y_pred_scratch= KNN_from_scratch(X_train_normalized, y_train_encoded, X_test_normalized, K)\n",
        "print(y_pred_scratch)\n",
        "accuracy_score(y_test_encoded, y_pred_scratch)"
      ],
      "metadata": {
        "id": "2jGIcWSL4vaQ",
        "colab": {
          "base_uri": "https://localhost:8080/"
        },
        "outputId": "5035adda-08ee-412b-a919-45ac9886327d"
      },
      "execution_count": 204,
      "outputs": [
        {
          "output_type": "stream",
          "name": "stdout",
          "text": [
            "Accuracy corresponding to K = 3\n",
            "[1, 2, 0, 1, 0, 1, 2, 1, 0, 1, 1, 2, 1, 0, 0, 2, 1, 0, 0, 0, 2, 2, 2, 0, 1, 0, 1, 1, 1, 2]\n"
          ]
        },
        {
          "output_type": "execute_result",
          "data": {
            "text/plain": [
              "0.9666666666666667"
            ]
          },
          "metadata": {},
          "execution_count": 204
        }
      ]
    },
    {
      "cell_type": "code",
      "source": [
        ""
      ],
      "metadata": {
        "id": "kbNYJyVRtjqy"
      },
      "execution_count": null,
      "outputs": []
    }
  ]
}