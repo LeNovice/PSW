{
  "cells": [
    {
      "cell_type": "markdown",
      "metadata": {
        "id": "view-in-github",
        "colab_type": "text"
      },
      "source": [
        "<a href=\"https://colab.research.google.com/github/LeNovice/PSW/blob/main/IDS_Assignment.ipynb\" target=\"_parent\"><img src=\"https://colab.research.google.com/assets/colab-badge.svg\" alt=\"Open In Colab\"/></a>"
      ]
    },
    {
      "cell_type": "markdown",
      "id": "9bda93ba",
      "metadata": {
        "id": "9bda93ba"
      },
      "source": [
        "## Group No\n",
        "\n",
        "## Group Member Names:\n",
        "1. \n",
        "2.\n",
        "3.\n",
        "\n"
      ]
    },
    {
      "cell_type": "markdown",
      "id": "f5d80c60",
      "metadata": {
        "id": "f5d80c60"
      },
      "source": [
        "# 1. Business Understanding\n",
        " \n",
        "Students are expected to identify a classification problem of your choice. You have to detail the Business Understanding part of your problem under this heading which basically addresses the following questions.\n",
        " \n",
        "   1. What is the problem that you are trying to solve?\n",
        "   2. What data do you need to answer the above problem?\n",
        "   3. What are the different sources of data?    \n",
        "   4. What kind of analytics task are you performing?\n",
        "\n"
      ]
    },
    {
      "cell_type": "raw",
      "id": "3298e121",
      "metadata": {
        "id": "3298e121"
      },
      "source": [
        "--------------Type the answers below this line-------------- "
      ]
    },
    {
      "cell_type": "code",
      "source": [
        "import pandas as pd\n",
        "from sklearn.impute import SimpleImputer"
      ],
      "metadata": {
        "id": "RYeQWj4kYBs4"
      },
      "id": "RYeQWj4kYBs4",
      "execution_count": 106,
      "outputs": []
    },
    {
      "cell_type": "markdown",
      "id": "3cc8e0cb",
      "metadata": {
        "id": "3cc8e0cb"
      },
      "source": [
        "# 2. Data Acquisition\n",
        " \n",
        "For the problem identified by you, students have to find the data source themselves which should be a website which has the required data in it. You have to write Python crawler code to scrape data from the respective website rather than downloading ready-made dataset as such from sources like Kaggle etc. \n",
        "\n",
        "(Data downloaded from website like Kaggle will be awarded negative marks.)\n",
        "\n",
        "## 2.1 Code for scraping data from website\n",
        "\n"
      ]
    },
    {
      "cell_type": "code",
      "execution_count": 107,
      "id": "4b51d895",
      "metadata": {
        "id": "4b51d895"
      },
      "outputs": [],
      "source": [
        "##---------Type the code below this line------------------##\n"
      ]
    },
    {
      "cell_type": "markdown",
      "id": "49530d0c",
      "metadata": {
        "id": "49530d0c"
      },
      "source": [
        "## 2.2 Code for converting the above scraped data into a dataframe"
      ]
    },
    {
      "cell_type": "code",
      "execution_count": 108,
      "id": "c1f4c171",
      "metadata": {
        "id": "c1f4c171"
      },
      "outputs": [],
      "source": [
        "##---------Type the code below this line------------------##\n",
        "raw_DF = pd.read_csv('https://raw.githubusercontent.com/ParvN/Chronic-Kidney-Disease-Classification/master/ckd.csv',sep=',', na_values=['?'])"
      ]
    },
    {
      "cell_type": "markdown",
      "id": "7b1fea4d",
      "metadata": {
        "id": "7b1fea4d"
      },
      "source": [
        "## 2.3 Confirm the data has been correctly by displaying the first 5 and last 5 records."
      ]
    },
    {
      "cell_type": "code",
      "execution_count": 109,
      "id": "624e6c58",
      "metadata": {
        "colab": {
          "base_uri": "https://localhost:8080/",
          "height": 430
        },
        "id": "624e6c58",
        "outputId": "15f96412-2a07-4428-9aa5-9d3d161b26bb"
      },
      "outputs": [
        {
          "output_type": "stream",
          "name": "stdout",
          "text": [
            "Top 5\n"
          ]
        },
        {
          "output_type": "display_data",
          "data": {
            "text/html": [
              "\n",
              "  <div id=\"df-47634041-0007-44e6-b25b-01e4b3818f75\">\n",
              "    <div class=\"colab-df-container\">\n",
              "      <div>\n",
              "<style scoped>\n",
              "    .dataframe tbody tr th:only-of-type {\n",
              "        vertical-align: middle;\n",
              "    }\n",
              "\n",
              "    .dataframe tbody tr th {\n",
              "        vertical-align: top;\n",
              "    }\n",
              "\n",
              "    .dataframe thead th {\n",
              "        text-align: right;\n",
              "    }\n",
              "</style>\n",
              "<table border=\"1\" class=\"dataframe\">\n",
              "  <thead>\n",
              "    <tr style=\"text-align: right;\">\n",
              "      <th></th>\n",
              "      <th>age</th>\n",
              "      <th>bp</th>\n",
              "      <th>sg</th>\n",
              "      <th>al</th>\n",
              "      <th>su</th>\n",
              "      <th>rbc</th>\n",
              "      <th>pc</th>\n",
              "      <th>pcc</th>\n",
              "      <th>ba</th>\n",
              "      <th>bgr</th>\n",
              "      <th>bu</th>\n",
              "      <th>sc</th>\n",
              "      <th>sod</th>\n",
              "      <th>pot</th>\n",
              "      <th>hemo</th>\n",
              "      <th>pcv</th>\n",
              "      <th>wbcc</th>\n",
              "      <th>rbcc</th>\n",
              "      <th>htn</th>\n",
              "      <th>dm</th>\n",
              "      <th>cad</th>\n",
              "      <th>appet</th>\n",
              "      <th>pe</th>\n",
              "      <th>ane</th>\n",
              "      <th>class</th>\n",
              "    </tr>\n",
              "  </thead>\n",
              "  <tbody>\n",
              "    <tr>\n",
              "      <th>0</th>\n",
              "      <td>48.0</td>\n",
              "      <td>80.0</td>\n",
              "      <td>1.020</td>\n",
              "      <td>1.0</td>\n",
              "      <td>0.0</td>\n",
              "      <td>NaN</td>\n",
              "      <td>normal</td>\n",
              "      <td>notpresent</td>\n",
              "      <td>notpresent</td>\n",
              "      <td>121.0</td>\n",
              "      <td>36.0</td>\n",
              "      <td>1.2</td>\n",
              "      <td>NaN</td>\n",
              "      <td>NaN</td>\n",
              "      <td>15.4</td>\n",
              "      <td>44.0</td>\n",
              "      <td>7800.0</td>\n",
              "      <td>5.2</td>\n",
              "      <td>yes</td>\n",
              "      <td>yes</td>\n",
              "      <td>no</td>\n",
              "      <td>good</td>\n",
              "      <td>no</td>\n",
              "      <td>no</td>\n",
              "      <td>ckd</td>\n",
              "    </tr>\n",
              "    <tr>\n",
              "      <th>1</th>\n",
              "      <td>7.0</td>\n",
              "      <td>50.0</td>\n",
              "      <td>1.020</td>\n",
              "      <td>4.0</td>\n",
              "      <td>0.0</td>\n",
              "      <td>NaN</td>\n",
              "      <td>normal</td>\n",
              "      <td>notpresent</td>\n",
              "      <td>notpresent</td>\n",
              "      <td>NaN</td>\n",
              "      <td>18.0</td>\n",
              "      <td>0.8</td>\n",
              "      <td>NaN</td>\n",
              "      <td>NaN</td>\n",
              "      <td>11.3</td>\n",
              "      <td>38.0</td>\n",
              "      <td>6000.0</td>\n",
              "      <td>NaN</td>\n",
              "      <td>no</td>\n",
              "      <td>no</td>\n",
              "      <td>no</td>\n",
              "      <td>good</td>\n",
              "      <td>no</td>\n",
              "      <td>no</td>\n",
              "      <td>ckd</td>\n",
              "    </tr>\n",
              "    <tr>\n",
              "      <th>2</th>\n",
              "      <td>62.0</td>\n",
              "      <td>80.0</td>\n",
              "      <td>1.010</td>\n",
              "      <td>2.0</td>\n",
              "      <td>3.0</td>\n",
              "      <td>normal</td>\n",
              "      <td>normal</td>\n",
              "      <td>notpresent</td>\n",
              "      <td>notpresent</td>\n",
              "      <td>423.0</td>\n",
              "      <td>53.0</td>\n",
              "      <td>1.8</td>\n",
              "      <td>NaN</td>\n",
              "      <td>NaN</td>\n",
              "      <td>9.6</td>\n",
              "      <td>31.0</td>\n",
              "      <td>7500.0</td>\n",
              "      <td>NaN</td>\n",
              "      <td>no</td>\n",
              "      <td>yes</td>\n",
              "      <td>no</td>\n",
              "      <td>poor</td>\n",
              "      <td>no</td>\n",
              "      <td>yes</td>\n",
              "      <td>ckd</td>\n",
              "    </tr>\n",
              "    <tr>\n",
              "      <th>3</th>\n",
              "      <td>48.0</td>\n",
              "      <td>70.0</td>\n",
              "      <td>1.005</td>\n",
              "      <td>4.0</td>\n",
              "      <td>0.0</td>\n",
              "      <td>normal</td>\n",
              "      <td>abnormal</td>\n",
              "      <td>present</td>\n",
              "      <td>notpresent</td>\n",
              "      <td>117.0</td>\n",
              "      <td>56.0</td>\n",
              "      <td>3.8</td>\n",
              "      <td>111.0</td>\n",
              "      <td>2.5</td>\n",
              "      <td>11.2</td>\n",
              "      <td>32.0</td>\n",
              "      <td>6700.0</td>\n",
              "      <td>3.9</td>\n",
              "      <td>yes</td>\n",
              "      <td>no</td>\n",
              "      <td>no</td>\n",
              "      <td>poor</td>\n",
              "      <td>yes</td>\n",
              "      <td>yes</td>\n",
              "      <td>ckd</td>\n",
              "    </tr>\n",
              "    <tr>\n",
              "      <th>4</th>\n",
              "      <td>51.0</td>\n",
              "      <td>80.0</td>\n",
              "      <td>1.010</td>\n",
              "      <td>2.0</td>\n",
              "      <td>0.0</td>\n",
              "      <td>normal</td>\n",
              "      <td>normal</td>\n",
              "      <td>notpresent</td>\n",
              "      <td>notpresent</td>\n",
              "      <td>106.0</td>\n",
              "      <td>26.0</td>\n",
              "      <td>1.4</td>\n",
              "      <td>NaN</td>\n",
              "      <td>NaN</td>\n",
              "      <td>11.6</td>\n",
              "      <td>35.0</td>\n",
              "      <td>7300.0</td>\n",
              "      <td>4.6</td>\n",
              "      <td>no</td>\n",
              "      <td>no</td>\n",
              "      <td>no</td>\n",
              "      <td>good</td>\n",
              "      <td>no</td>\n",
              "      <td>no</td>\n",
              "      <td>ckd</td>\n",
              "    </tr>\n",
              "  </tbody>\n",
              "</table>\n",
              "</div>\n",
              "      <button class=\"colab-df-convert\" onclick=\"convertToInteractive('df-47634041-0007-44e6-b25b-01e4b3818f75')\"\n",
              "              title=\"Convert this dataframe to an interactive table.\"\n",
              "              style=\"display:none;\">\n",
              "        \n",
              "  <svg xmlns=\"http://www.w3.org/2000/svg\" height=\"24px\"viewBox=\"0 0 24 24\"\n",
              "       width=\"24px\">\n",
              "    <path d=\"M0 0h24v24H0V0z\" fill=\"none\"/>\n",
              "    <path d=\"M18.56 5.44l.94 2.06.94-2.06 2.06-.94-2.06-.94-.94-2.06-.94 2.06-2.06.94zm-11 1L8.5 8.5l.94-2.06 2.06-.94-2.06-.94L8.5 2.5l-.94 2.06-2.06.94zm10 10l.94 2.06.94-2.06 2.06-.94-2.06-.94-.94-2.06-.94 2.06-2.06.94z\"/><path d=\"M17.41 7.96l-1.37-1.37c-.4-.4-.92-.59-1.43-.59-.52 0-1.04.2-1.43.59L10.3 9.45l-7.72 7.72c-.78.78-.78 2.05 0 2.83L4 21.41c.39.39.9.59 1.41.59.51 0 1.02-.2 1.41-.59l7.78-7.78 2.81-2.81c.8-.78.8-2.07 0-2.86zM5.41 20L4 18.59l7.72-7.72 1.47 1.35L5.41 20z\"/>\n",
              "  </svg>\n",
              "      </button>\n",
              "      \n",
              "  <style>\n",
              "    .colab-df-container {\n",
              "      display:flex;\n",
              "      flex-wrap:wrap;\n",
              "      gap: 12px;\n",
              "    }\n",
              "\n",
              "    .colab-df-convert {\n",
              "      background-color: #E8F0FE;\n",
              "      border: none;\n",
              "      border-radius: 50%;\n",
              "      cursor: pointer;\n",
              "      display: none;\n",
              "      fill: #1967D2;\n",
              "      height: 32px;\n",
              "      padding: 0 0 0 0;\n",
              "      width: 32px;\n",
              "    }\n",
              "\n",
              "    .colab-df-convert:hover {\n",
              "      background-color: #E2EBFA;\n",
              "      box-shadow: 0px 1px 2px rgba(60, 64, 67, 0.3), 0px 1px 3px 1px rgba(60, 64, 67, 0.15);\n",
              "      fill: #174EA6;\n",
              "    }\n",
              "\n",
              "    [theme=dark] .colab-df-convert {\n",
              "      background-color: #3B4455;\n",
              "      fill: #D2E3FC;\n",
              "    }\n",
              "\n",
              "    [theme=dark] .colab-df-convert:hover {\n",
              "      background-color: #434B5C;\n",
              "      box-shadow: 0px 1px 3px 1px rgba(0, 0, 0, 0.15);\n",
              "      filter: drop-shadow(0px 1px 2px rgba(0, 0, 0, 0.3));\n",
              "      fill: #FFFFFF;\n",
              "    }\n",
              "  </style>\n",
              "\n",
              "      <script>\n",
              "        const buttonEl =\n",
              "          document.querySelector('#df-47634041-0007-44e6-b25b-01e4b3818f75 button.colab-df-convert');\n",
              "        buttonEl.style.display =\n",
              "          google.colab.kernel.accessAllowed ? 'block' : 'none';\n",
              "\n",
              "        async function convertToInteractive(key) {\n",
              "          const element = document.querySelector('#df-47634041-0007-44e6-b25b-01e4b3818f75');\n",
              "          const dataTable =\n",
              "            await google.colab.kernel.invokeFunction('convertToInteractive',\n",
              "                                                     [key], {});\n",
              "          if (!dataTable) return;\n",
              "\n",
              "          const docLinkHtml = 'Like what you see? Visit the ' +\n",
              "            '<a target=\"_blank\" href=https://colab.research.google.com/notebooks/data_table.ipynb>data table notebook</a>'\n",
              "            + ' to learn more about interactive tables.';\n",
              "          element.innerHTML = '';\n",
              "          dataTable['output_type'] = 'display_data';\n",
              "          await google.colab.output.renderOutput(dataTable, element);\n",
              "          const docLink = document.createElement('div');\n",
              "          docLink.innerHTML = docLinkHtml;\n",
              "          element.appendChild(docLink);\n",
              "        }\n",
              "      </script>\n",
              "    </div>\n",
              "  </div>\n",
              "  "
            ],
            "text/plain": [
              "    age    bp     sg   al   su     rbc  ...   dm cad appet   pe  ane  class\n",
              "0  48.0  80.0  1.020  1.0  0.0     NaN  ...  yes  no  good   no   no    ckd\n",
              "1   7.0  50.0  1.020  4.0  0.0     NaN  ...   no  no  good   no   no    ckd\n",
              "2  62.0  80.0  1.010  2.0  3.0  normal  ...  yes  no  poor   no  yes    ckd\n",
              "3  48.0  70.0  1.005  4.0  0.0  normal  ...   no  no  poor  yes  yes    ckd\n",
              "4  51.0  80.0  1.010  2.0  0.0  normal  ...   no  no  good   no   no    ckd\n",
              "\n",
              "[5 rows x 25 columns]"
            ]
          },
          "metadata": {}
        },
        {
          "output_type": "stream",
          "name": "stdout",
          "text": [
            "Bottom 5\n"
          ]
        },
        {
          "output_type": "display_data",
          "data": {
            "text/html": [
              "\n",
              "  <div id=\"df-2f517680-1617-48b2-965c-83619b534e9b\">\n",
              "    <div class=\"colab-df-container\">\n",
              "      <div>\n",
              "<style scoped>\n",
              "    .dataframe tbody tr th:only-of-type {\n",
              "        vertical-align: middle;\n",
              "    }\n",
              "\n",
              "    .dataframe tbody tr th {\n",
              "        vertical-align: top;\n",
              "    }\n",
              "\n",
              "    .dataframe thead th {\n",
              "        text-align: right;\n",
              "    }\n",
              "</style>\n",
              "<table border=\"1\" class=\"dataframe\">\n",
              "  <thead>\n",
              "    <tr style=\"text-align: right;\">\n",
              "      <th></th>\n",
              "      <th>age</th>\n",
              "      <th>bp</th>\n",
              "      <th>sg</th>\n",
              "      <th>al</th>\n",
              "      <th>su</th>\n",
              "      <th>rbc</th>\n",
              "      <th>pc</th>\n",
              "      <th>pcc</th>\n",
              "      <th>ba</th>\n",
              "      <th>bgr</th>\n",
              "      <th>bu</th>\n",
              "      <th>sc</th>\n",
              "      <th>sod</th>\n",
              "      <th>pot</th>\n",
              "      <th>hemo</th>\n",
              "      <th>pcv</th>\n",
              "      <th>wbcc</th>\n",
              "      <th>rbcc</th>\n",
              "      <th>htn</th>\n",
              "      <th>dm</th>\n",
              "      <th>cad</th>\n",
              "      <th>appet</th>\n",
              "      <th>pe</th>\n",
              "      <th>ane</th>\n",
              "      <th>class</th>\n",
              "    </tr>\n",
              "  </thead>\n",
              "  <tbody>\n",
              "    <tr>\n",
              "      <th>395</th>\n",
              "      <td>55.0</td>\n",
              "      <td>80.0</td>\n",
              "      <td>1.020</td>\n",
              "      <td>0.0</td>\n",
              "      <td>0.0</td>\n",
              "      <td>normal</td>\n",
              "      <td>normal</td>\n",
              "      <td>notpresent</td>\n",
              "      <td>notpresent</td>\n",
              "      <td>140.0</td>\n",
              "      <td>49.0</td>\n",
              "      <td>0.5</td>\n",
              "      <td>150.0</td>\n",
              "      <td>4.9</td>\n",
              "      <td>15.7</td>\n",
              "      <td>47.0</td>\n",
              "      <td>6700.0</td>\n",
              "      <td>4.9</td>\n",
              "      <td>no</td>\n",
              "      <td>no</td>\n",
              "      <td>no</td>\n",
              "      <td>good</td>\n",
              "      <td>no</td>\n",
              "      <td>no</td>\n",
              "      <td>notckd</td>\n",
              "    </tr>\n",
              "    <tr>\n",
              "      <th>396</th>\n",
              "      <td>42.0</td>\n",
              "      <td>70.0</td>\n",
              "      <td>1.025</td>\n",
              "      <td>0.0</td>\n",
              "      <td>0.0</td>\n",
              "      <td>normal</td>\n",
              "      <td>normal</td>\n",
              "      <td>notpresent</td>\n",
              "      <td>notpresent</td>\n",
              "      <td>75.0</td>\n",
              "      <td>31.0</td>\n",
              "      <td>1.2</td>\n",
              "      <td>141.0</td>\n",
              "      <td>3.5</td>\n",
              "      <td>16.5</td>\n",
              "      <td>54.0</td>\n",
              "      <td>7800.0</td>\n",
              "      <td>6.2</td>\n",
              "      <td>no</td>\n",
              "      <td>no</td>\n",
              "      <td>no</td>\n",
              "      <td>good</td>\n",
              "      <td>no</td>\n",
              "      <td>no</td>\n",
              "      <td>notckd</td>\n",
              "    </tr>\n",
              "    <tr>\n",
              "      <th>397</th>\n",
              "      <td>12.0</td>\n",
              "      <td>80.0</td>\n",
              "      <td>1.020</td>\n",
              "      <td>0.0</td>\n",
              "      <td>0.0</td>\n",
              "      <td>normal</td>\n",
              "      <td>normal</td>\n",
              "      <td>notpresent</td>\n",
              "      <td>notpresent</td>\n",
              "      <td>100.0</td>\n",
              "      <td>26.0</td>\n",
              "      <td>0.6</td>\n",
              "      <td>137.0</td>\n",
              "      <td>4.4</td>\n",
              "      <td>15.8</td>\n",
              "      <td>49.0</td>\n",
              "      <td>6600.0</td>\n",
              "      <td>5.4</td>\n",
              "      <td>no</td>\n",
              "      <td>no</td>\n",
              "      <td>no</td>\n",
              "      <td>good</td>\n",
              "      <td>no</td>\n",
              "      <td>no</td>\n",
              "      <td>notckd</td>\n",
              "    </tr>\n",
              "    <tr>\n",
              "      <th>398</th>\n",
              "      <td>17.0</td>\n",
              "      <td>60.0</td>\n",
              "      <td>1.025</td>\n",
              "      <td>0.0</td>\n",
              "      <td>0.0</td>\n",
              "      <td>normal</td>\n",
              "      <td>normal</td>\n",
              "      <td>notpresent</td>\n",
              "      <td>notpresent</td>\n",
              "      <td>114.0</td>\n",
              "      <td>50.0</td>\n",
              "      <td>1.0</td>\n",
              "      <td>135.0</td>\n",
              "      <td>4.9</td>\n",
              "      <td>14.2</td>\n",
              "      <td>51.0</td>\n",
              "      <td>7200.0</td>\n",
              "      <td>5.9</td>\n",
              "      <td>no</td>\n",
              "      <td>no</td>\n",
              "      <td>no</td>\n",
              "      <td>good</td>\n",
              "      <td>no</td>\n",
              "      <td>no</td>\n",
              "      <td>notckd</td>\n",
              "    </tr>\n",
              "    <tr>\n",
              "      <th>399</th>\n",
              "      <td>58.0</td>\n",
              "      <td>80.0</td>\n",
              "      <td>1.025</td>\n",
              "      <td>0.0</td>\n",
              "      <td>0.0</td>\n",
              "      <td>normal</td>\n",
              "      <td>normal</td>\n",
              "      <td>notpresent</td>\n",
              "      <td>notpresent</td>\n",
              "      <td>131.0</td>\n",
              "      <td>18.0</td>\n",
              "      <td>1.1</td>\n",
              "      <td>141.0</td>\n",
              "      <td>3.5</td>\n",
              "      <td>15.8</td>\n",
              "      <td>53.0</td>\n",
              "      <td>6800.0</td>\n",
              "      <td>6.1</td>\n",
              "      <td>no</td>\n",
              "      <td>no</td>\n",
              "      <td>no</td>\n",
              "      <td>good</td>\n",
              "      <td>no</td>\n",
              "      <td>no</td>\n",
              "      <td>notckd</td>\n",
              "    </tr>\n",
              "  </tbody>\n",
              "</table>\n",
              "</div>\n",
              "      <button class=\"colab-df-convert\" onclick=\"convertToInteractive('df-2f517680-1617-48b2-965c-83619b534e9b')\"\n",
              "              title=\"Convert this dataframe to an interactive table.\"\n",
              "              style=\"display:none;\">\n",
              "        \n",
              "  <svg xmlns=\"http://www.w3.org/2000/svg\" height=\"24px\"viewBox=\"0 0 24 24\"\n",
              "       width=\"24px\">\n",
              "    <path d=\"M0 0h24v24H0V0z\" fill=\"none\"/>\n",
              "    <path d=\"M18.56 5.44l.94 2.06.94-2.06 2.06-.94-2.06-.94-.94-2.06-.94 2.06-2.06.94zm-11 1L8.5 8.5l.94-2.06 2.06-.94-2.06-.94L8.5 2.5l-.94 2.06-2.06.94zm10 10l.94 2.06.94-2.06 2.06-.94-2.06-.94-.94-2.06-.94 2.06-2.06.94z\"/><path d=\"M17.41 7.96l-1.37-1.37c-.4-.4-.92-.59-1.43-.59-.52 0-1.04.2-1.43.59L10.3 9.45l-7.72 7.72c-.78.78-.78 2.05 0 2.83L4 21.41c.39.39.9.59 1.41.59.51 0 1.02-.2 1.41-.59l7.78-7.78 2.81-2.81c.8-.78.8-2.07 0-2.86zM5.41 20L4 18.59l7.72-7.72 1.47 1.35L5.41 20z\"/>\n",
              "  </svg>\n",
              "      </button>\n",
              "      \n",
              "  <style>\n",
              "    .colab-df-container {\n",
              "      display:flex;\n",
              "      flex-wrap:wrap;\n",
              "      gap: 12px;\n",
              "    }\n",
              "\n",
              "    .colab-df-convert {\n",
              "      background-color: #E8F0FE;\n",
              "      border: none;\n",
              "      border-radius: 50%;\n",
              "      cursor: pointer;\n",
              "      display: none;\n",
              "      fill: #1967D2;\n",
              "      height: 32px;\n",
              "      padding: 0 0 0 0;\n",
              "      width: 32px;\n",
              "    }\n",
              "\n",
              "    .colab-df-convert:hover {\n",
              "      background-color: #E2EBFA;\n",
              "      box-shadow: 0px 1px 2px rgba(60, 64, 67, 0.3), 0px 1px 3px 1px rgba(60, 64, 67, 0.15);\n",
              "      fill: #174EA6;\n",
              "    }\n",
              "\n",
              "    [theme=dark] .colab-df-convert {\n",
              "      background-color: #3B4455;\n",
              "      fill: #D2E3FC;\n",
              "    }\n",
              "\n",
              "    [theme=dark] .colab-df-convert:hover {\n",
              "      background-color: #434B5C;\n",
              "      box-shadow: 0px 1px 3px 1px rgba(0, 0, 0, 0.15);\n",
              "      filter: drop-shadow(0px 1px 2px rgba(0, 0, 0, 0.3));\n",
              "      fill: #FFFFFF;\n",
              "    }\n",
              "  </style>\n",
              "\n",
              "      <script>\n",
              "        const buttonEl =\n",
              "          document.querySelector('#df-2f517680-1617-48b2-965c-83619b534e9b button.colab-df-convert');\n",
              "        buttonEl.style.display =\n",
              "          google.colab.kernel.accessAllowed ? 'block' : 'none';\n",
              "\n",
              "        async function convertToInteractive(key) {\n",
              "          const element = document.querySelector('#df-2f517680-1617-48b2-965c-83619b534e9b');\n",
              "          const dataTable =\n",
              "            await google.colab.kernel.invokeFunction('convertToInteractive',\n",
              "                                                     [key], {});\n",
              "          if (!dataTable) return;\n",
              "\n",
              "          const docLinkHtml = 'Like what you see? Visit the ' +\n",
              "            '<a target=\"_blank\" href=https://colab.research.google.com/notebooks/data_table.ipynb>data table notebook</a>'\n",
              "            + ' to learn more about interactive tables.';\n",
              "          element.innerHTML = '';\n",
              "          dataTable['output_type'] = 'display_data';\n",
              "          await google.colab.output.renderOutput(dataTable, element);\n",
              "          const docLink = document.createElement('div');\n",
              "          docLink.innerHTML = docLinkHtml;\n",
              "          element.appendChild(docLink);\n",
              "        }\n",
              "      </script>\n",
              "    </div>\n",
              "  </div>\n",
              "  "
            ],
            "text/plain": [
              "      age    bp     sg   al   su     rbc  ...  dm cad appet  pe  ane   class\n",
              "395  55.0  80.0  1.020  0.0  0.0  normal  ...  no  no  good  no   no  notckd\n",
              "396  42.0  70.0  1.025  0.0  0.0  normal  ...  no  no  good  no   no  notckd\n",
              "397  12.0  80.0  1.020  0.0  0.0  normal  ...  no  no  good  no   no  notckd\n",
              "398  17.0  60.0  1.025  0.0  0.0  normal  ...  no  no  good  no   no  notckd\n",
              "399  58.0  80.0  1.025  0.0  0.0  normal  ...  no  no  good  no   no  notckd\n",
              "\n",
              "[5 rows x 25 columns]"
            ]
          },
          "metadata": {}
        }
      ],
      "source": [
        "##---------Type the code below this line------------------##\n",
        "print(\"Top 5\")\n",
        "display(raw_DF.head())\n",
        "print(\"Bottom 5\")\n",
        "display(raw_DF.tail())"
      ]
    },
    {
      "cell_type": "markdown",
      "id": "bb84fc56",
      "metadata": {
        "id": "bb84fc56"
      },
      "source": [
        "## 2.4 Display the column headings, statistical information, description and statistical summary of the data."
      ]
    },
    {
      "cell_type": "code",
      "execution_count": 110,
      "id": "086ad28e",
      "metadata": {
        "colab": {
          "base_uri": "https://localhost:8080/",
          "height": 838
        },
        "id": "086ad28e",
        "outputId": "78bd68d0-a0cb-46ff-e321-2ab834fb7e09"
      },
      "outputs": [
        {
          "output_type": "stream",
          "name": "stdout",
          "text": [
            "['age' 'bp' 'sg' 'al' 'su' 'rbc' 'pc' 'pcc' 'ba' 'bgr' 'bu' 'sc' 'sod'\n",
            " 'pot' 'hemo' 'pcv' 'wbcc' 'rbcc' 'htn' 'dm' 'cad' 'appet' 'pe' 'ane'\n",
            " 'class']\n"
          ]
        },
        {
          "output_type": "display_data",
          "data": {
            "text/html": [
              "\n",
              "  <div id=\"df-85fa904b-d5d0-48aa-a08c-df4570d1aa0c\">\n",
              "    <div class=\"colab-df-container\">\n",
              "      <div>\n",
              "<style scoped>\n",
              "    .dataframe tbody tr th:only-of-type {\n",
              "        vertical-align: middle;\n",
              "    }\n",
              "\n",
              "    .dataframe tbody tr th {\n",
              "        vertical-align: top;\n",
              "    }\n",
              "\n",
              "    .dataframe thead th {\n",
              "        text-align: right;\n",
              "    }\n",
              "</style>\n",
              "<table border=\"1\" class=\"dataframe\">\n",
              "  <thead>\n",
              "    <tr style=\"text-align: right;\">\n",
              "      <th></th>\n",
              "      <th>age</th>\n",
              "      <th>bp</th>\n",
              "      <th>sg</th>\n",
              "      <th>al</th>\n",
              "      <th>su</th>\n",
              "      <th>bgr</th>\n",
              "      <th>bu</th>\n",
              "      <th>sc</th>\n",
              "      <th>sod</th>\n",
              "      <th>pot</th>\n",
              "      <th>hemo</th>\n",
              "      <th>pcv</th>\n",
              "      <th>wbcc</th>\n",
              "      <th>rbcc</th>\n",
              "    </tr>\n",
              "  </thead>\n",
              "  <tbody>\n",
              "    <tr>\n",
              "      <th>count</th>\n",
              "      <td>391.000000</td>\n",
              "      <td>388.000000</td>\n",
              "      <td>353.000000</td>\n",
              "      <td>354.000000</td>\n",
              "      <td>351.000000</td>\n",
              "      <td>356.000000</td>\n",
              "      <td>381.000000</td>\n",
              "      <td>383.000000</td>\n",
              "      <td>313.000000</td>\n",
              "      <td>312.000000</td>\n",
              "      <td>348.000000</td>\n",
              "      <td>329.000000</td>\n",
              "      <td>294.000000</td>\n",
              "      <td>269.000000</td>\n",
              "    </tr>\n",
              "    <tr>\n",
              "      <th>mean</th>\n",
              "      <td>51.483376</td>\n",
              "      <td>76.469072</td>\n",
              "      <td>1.017408</td>\n",
              "      <td>1.016949</td>\n",
              "      <td>0.450142</td>\n",
              "      <td>148.036517</td>\n",
              "      <td>57.425722</td>\n",
              "      <td>3.072454</td>\n",
              "      <td>137.528754</td>\n",
              "      <td>4.627244</td>\n",
              "      <td>12.526437</td>\n",
              "      <td>38.884498</td>\n",
              "      <td>8406.122449</td>\n",
              "      <td>4.707435</td>\n",
              "    </tr>\n",
              "    <tr>\n",
              "      <th>std</th>\n",
              "      <td>17.169714</td>\n",
              "      <td>13.683637</td>\n",
              "      <td>0.005717</td>\n",
              "      <td>1.352679</td>\n",
              "      <td>1.099191</td>\n",
              "      <td>79.281714</td>\n",
              "      <td>50.503006</td>\n",
              "      <td>5.741126</td>\n",
              "      <td>10.408752</td>\n",
              "      <td>3.193904</td>\n",
              "      <td>2.912587</td>\n",
              "      <td>8.990105</td>\n",
              "      <td>2944.474190</td>\n",
              "      <td>1.025323</td>\n",
              "    </tr>\n",
              "    <tr>\n",
              "      <th>min</th>\n",
              "      <td>2.000000</td>\n",
              "      <td>50.000000</td>\n",
              "      <td>1.005000</td>\n",
              "      <td>0.000000</td>\n",
              "      <td>0.000000</td>\n",
              "      <td>22.000000</td>\n",
              "      <td>1.500000</td>\n",
              "      <td>0.400000</td>\n",
              "      <td>4.500000</td>\n",
              "      <td>2.500000</td>\n",
              "      <td>3.100000</td>\n",
              "      <td>9.000000</td>\n",
              "      <td>2200.000000</td>\n",
              "      <td>2.100000</td>\n",
              "    </tr>\n",
              "    <tr>\n",
              "      <th>25%</th>\n",
              "      <td>42.000000</td>\n",
              "      <td>70.000000</td>\n",
              "      <td>1.010000</td>\n",
              "      <td>0.000000</td>\n",
              "      <td>0.000000</td>\n",
              "      <td>99.000000</td>\n",
              "      <td>27.000000</td>\n",
              "      <td>0.900000</td>\n",
              "      <td>135.000000</td>\n",
              "      <td>3.800000</td>\n",
              "      <td>10.300000</td>\n",
              "      <td>32.000000</td>\n",
              "      <td>6500.000000</td>\n",
              "      <td>3.900000</td>\n",
              "    </tr>\n",
              "    <tr>\n",
              "      <th>50%</th>\n",
              "      <td>55.000000</td>\n",
              "      <td>80.000000</td>\n",
              "      <td>1.020000</td>\n",
              "      <td>0.000000</td>\n",
              "      <td>0.000000</td>\n",
              "      <td>121.000000</td>\n",
              "      <td>42.000000</td>\n",
              "      <td>1.300000</td>\n",
              "      <td>138.000000</td>\n",
              "      <td>4.400000</td>\n",
              "      <td>12.650000</td>\n",
              "      <td>40.000000</td>\n",
              "      <td>8000.000000</td>\n",
              "      <td>4.800000</td>\n",
              "    </tr>\n",
              "    <tr>\n",
              "      <th>75%</th>\n",
              "      <td>64.500000</td>\n",
              "      <td>80.000000</td>\n",
              "      <td>1.020000</td>\n",
              "      <td>2.000000</td>\n",
              "      <td>0.000000</td>\n",
              "      <td>163.000000</td>\n",
              "      <td>66.000000</td>\n",
              "      <td>2.800000</td>\n",
              "      <td>142.000000</td>\n",
              "      <td>4.900000</td>\n",
              "      <td>15.000000</td>\n",
              "      <td>45.000000</td>\n",
              "      <td>9800.000000</td>\n",
              "      <td>5.400000</td>\n",
              "    </tr>\n",
              "    <tr>\n",
              "      <th>max</th>\n",
              "      <td>90.000000</td>\n",
              "      <td>180.000000</td>\n",
              "      <td>1.025000</td>\n",
              "      <td>5.000000</td>\n",
              "      <td>5.000000</td>\n",
              "      <td>490.000000</td>\n",
              "      <td>391.000000</td>\n",
              "      <td>76.000000</td>\n",
              "      <td>163.000000</td>\n",
              "      <td>47.000000</td>\n",
              "      <td>17.800000</td>\n",
              "      <td>54.000000</td>\n",
              "      <td>26400.000000</td>\n",
              "      <td>8.000000</td>\n",
              "    </tr>\n",
              "  </tbody>\n",
              "</table>\n",
              "</div>\n",
              "      <button class=\"colab-df-convert\" onclick=\"convertToInteractive('df-85fa904b-d5d0-48aa-a08c-df4570d1aa0c')\"\n",
              "              title=\"Convert this dataframe to an interactive table.\"\n",
              "              style=\"display:none;\">\n",
              "        \n",
              "  <svg xmlns=\"http://www.w3.org/2000/svg\" height=\"24px\"viewBox=\"0 0 24 24\"\n",
              "       width=\"24px\">\n",
              "    <path d=\"M0 0h24v24H0V0z\" fill=\"none\"/>\n",
              "    <path d=\"M18.56 5.44l.94 2.06.94-2.06 2.06-.94-2.06-.94-.94-2.06-.94 2.06-2.06.94zm-11 1L8.5 8.5l.94-2.06 2.06-.94-2.06-.94L8.5 2.5l-.94 2.06-2.06.94zm10 10l.94 2.06.94-2.06 2.06-.94-2.06-.94-.94-2.06-.94 2.06-2.06.94z\"/><path d=\"M17.41 7.96l-1.37-1.37c-.4-.4-.92-.59-1.43-.59-.52 0-1.04.2-1.43.59L10.3 9.45l-7.72 7.72c-.78.78-.78 2.05 0 2.83L4 21.41c.39.39.9.59 1.41.59.51 0 1.02-.2 1.41-.59l7.78-7.78 2.81-2.81c.8-.78.8-2.07 0-2.86zM5.41 20L4 18.59l7.72-7.72 1.47 1.35L5.41 20z\"/>\n",
              "  </svg>\n",
              "      </button>\n",
              "      \n",
              "  <style>\n",
              "    .colab-df-container {\n",
              "      display:flex;\n",
              "      flex-wrap:wrap;\n",
              "      gap: 12px;\n",
              "    }\n",
              "\n",
              "    .colab-df-convert {\n",
              "      background-color: #E8F0FE;\n",
              "      border: none;\n",
              "      border-radius: 50%;\n",
              "      cursor: pointer;\n",
              "      display: none;\n",
              "      fill: #1967D2;\n",
              "      height: 32px;\n",
              "      padding: 0 0 0 0;\n",
              "      width: 32px;\n",
              "    }\n",
              "\n",
              "    .colab-df-convert:hover {\n",
              "      background-color: #E2EBFA;\n",
              "      box-shadow: 0px 1px 2px rgba(60, 64, 67, 0.3), 0px 1px 3px 1px rgba(60, 64, 67, 0.15);\n",
              "      fill: #174EA6;\n",
              "    }\n",
              "\n",
              "    [theme=dark] .colab-df-convert {\n",
              "      background-color: #3B4455;\n",
              "      fill: #D2E3FC;\n",
              "    }\n",
              "\n",
              "    [theme=dark] .colab-df-convert:hover {\n",
              "      background-color: #434B5C;\n",
              "      box-shadow: 0px 1px 3px 1px rgba(0, 0, 0, 0.15);\n",
              "      filter: drop-shadow(0px 1px 2px rgba(0, 0, 0, 0.3));\n",
              "      fill: #FFFFFF;\n",
              "    }\n",
              "  </style>\n",
              "\n",
              "      <script>\n",
              "        const buttonEl =\n",
              "          document.querySelector('#df-85fa904b-d5d0-48aa-a08c-df4570d1aa0c button.colab-df-convert');\n",
              "        buttonEl.style.display =\n",
              "          google.colab.kernel.accessAllowed ? 'block' : 'none';\n",
              "\n",
              "        async function convertToInteractive(key) {\n",
              "          const element = document.querySelector('#df-85fa904b-d5d0-48aa-a08c-df4570d1aa0c');\n",
              "          const dataTable =\n",
              "            await google.colab.kernel.invokeFunction('convertToInteractive',\n",
              "                                                     [key], {});\n",
              "          if (!dataTable) return;\n",
              "\n",
              "          const docLinkHtml = 'Like what you see? Visit the ' +\n",
              "            '<a target=\"_blank\" href=https://colab.research.google.com/notebooks/data_table.ipynb>data table notebook</a>'\n",
              "            + ' to learn more about interactive tables.';\n",
              "          element.innerHTML = '';\n",
              "          dataTable['output_type'] = 'display_data';\n",
              "          await google.colab.output.renderOutput(dataTable, element);\n",
              "          const docLink = document.createElement('div');\n",
              "          docLink.innerHTML = docLinkHtml;\n",
              "          element.appendChild(docLink);\n",
              "        }\n",
              "      </script>\n",
              "    </div>\n",
              "  </div>\n",
              "  "
            ],
            "text/plain": [
              "              age          bp          sg  ...         pcv          wbcc        rbcc\n",
              "count  391.000000  388.000000  353.000000  ...  329.000000    294.000000  269.000000\n",
              "mean    51.483376   76.469072    1.017408  ...   38.884498   8406.122449    4.707435\n",
              "std     17.169714   13.683637    0.005717  ...    8.990105   2944.474190    1.025323\n",
              "min      2.000000   50.000000    1.005000  ...    9.000000   2200.000000    2.100000\n",
              "25%     42.000000   70.000000    1.010000  ...   32.000000   6500.000000    3.900000\n",
              "50%     55.000000   80.000000    1.020000  ...   40.000000   8000.000000    4.800000\n",
              "75%     64.500000   80.000000    1.020000  ...   45.000000   9800.000000    5.400000\n",
              "max     90.000000  180.000000    1.025000  ...   54.000000  26400.000000    8.000000\n",
              "\n",
              "[8 rows x 14 columns]"
            ]
          },
          "metadata": {}
        },
        {
          "output_type": "display_data",
          "data": {
            "text/plain": [
              "age      float64\n",
              "bp       float64\n",
              "sg       float64\n",
              "al       float64\n",
              "su       float64\n",
              "rbc       object\n",
              "pc        object\n",
              "pcc       object\n",
              "ba        object\n",
              "bgr      float64\n",
              "bu       float64\n",
              "sc       float64\n",
              "sod      float64\n",
              "pot      float64\n",
              "hemo     float64\n",
              "pcv      float64\n",
              "wbcc     float64\n",
              "rbcc     float64\n",
              "htn       object\n",
              "dm        object\n",
              "cad       object\n",
              "appet     object\n",
              "pe        object\n",
              "ane       object\n",
              "class     object\n",
              "dtype: object"
            ]
          },
          "metadata": {}
        },
        {
          "output_type": "stream",
          "name": "stdout",
          "text": [
            "\n",
            "Shape of DataFrame(400, 25)\n"
          ]
        }
      ],
      "source": [
        "##---------Type the code below this line------------------##\n",
        "DF_columns = raw_DF.columns.values\n",
        "print(DF_columns)\n",
        "display(raw_DF.describe(percentiles=None))\n",
        "display(raw_DF.dtypes)\n",
        "print(\"\\nShape of DataFrame\" + str(raw_DF.shape))"
      ]
    },
    {
      "cell_type": "markdown",
      "id": "812edb18",
      "metadata": {
        "id": "812edb18"
      },
      "source": [
        "## 2.5 Write your observations from the above. \n",
        "1. Size of the dataset\n",
        "\n",
        "As displayed in above code snippet, Size of dataset is 400 rows and 25 columns including the target variable\n",
        "2. What type of data attributes are there?\n",
        "3. Is there any null data that has to be cleaned?\n"
      ]
    },
    {
      "cell_type": "raw",
      "id": "60d80d2f",
      "metadata": {
        "id": "60d80d2f"
      },
      "source": [
        "--------------Type the answers below this line--------------"
      ]
    },
    {
      "cell_type": "markdown",
      "id": "102e0e36",
      "metadata": {
        "id": "102e0e36"
      },
      "source": [
        "# 3. Data Preparation"
      ]
    },
    {
      "cell_type": "markdown",
      "id": "2bcb953b",
      "metadata": {
        "id": "2bcb953b"
      },
      "source": [
        "## 3.1 Display how many unique values are present in each attribute\n"
      ]
    },
    {
      "cell_type": "code",
      "execution_count": 111,
      "id": "5a5b960e",
      "metadata": {
        "colab": {
          "base_uri": "https://localhost:8080/"
        },
        "id": "5a5b960e",
        "outputId": "75e98783-f123-4c20-d5fa-252d87ed9b16"
      },
      "outputs": [
        {
          "output_type": "stream",
          "name": "stdout",
          "text": [
            "Number of Unique values for attribute age =  77\n",
            "Number of Unique values for attribute bp =  11\n",
            "Number of Unique values for attribute sg =  6\n",
            "Number of Unique values for attribute al =  7\n",
            "Number of Unique values for attribute su =  7\n",
            "Number of Unique values for attribute rbc =  3\n",
            "Number of Unique values for attribute pc =  3\n",
            "Number of Unique values for attribute pcc =  3\n",
            "Number of Unique values for attribute ba =  3\n",
            "Number of Unique values for attribute bgr =  147\n",
            "Number of Unique values for attribute bu =  119\n",
            "Number of Unique values for attribute sc =  85\n",
            "Number of Unique values for attribute sod =  35\n",
            "Number of Unique values for attribute pot =  41\n",
            "Number of Unique values for attribute hemo =  116\n",
            "Number of Unique values for attribute pcv =  43\n",
            "Number of Unique values for attribute wbcc =  90\n",
            "Number of Unique values for attribute rbcc =  46\n",
            "Number of Unique values for attribute htn =  3\n",
            "Number of Unique values for attribute dm =  3\n",
            "Number of Unique values for attribute cad =  3\n",
            "Number of Unique values for attribute appet =  3\n",
            "Number of Unique values for attribute pe =  3\n",
            "Number of Unique values for attribute ane =  3\n",
            "Number of Unique values for attribute class =  2\n"
          ]
        }
      ],
      "source": [
        "##---------Type the code below this line------------------##\n",
        "for i in DF_columns:\n",
        "    print(\"Number of Unique values for attribute \" + i + \" = \" , raw_DF[i].unique().shape[0])"
      ]
    },
    {
      "cell_type": "markdown",
      "id": "06fdebf8",
      "metadata": {
        "id": "06fdebf8"
      },
      "source": [
        "## 3.2 Check for the presence of duplicate data, identify the attributes with duplicate data, report the attributes. Mention the method adopted to remove duplicate data if present. Report the results again."
      ]
    },
    {
      "cell_type": "code",
      "execution_count": 112,
      "id": "c86d5b0b",
      "metadata": {
        "colab": {
          "base_uri": "https://localhost:8080/"
        },
        "id": "c86d5b0b",
        "outputId": "c0953275-07e7-4c30-eee8-66c259f45fd7"
      },
      "outputs": [
        {
          "output_type": "stream",
          "name": "stdout",
          "text": [
            "Number of duplicates = 0\n",
            "DataFrame shape before dropping duplicates (400, 25)\n",
            "DataFrame shape after dropping duplicates (400, 25)\n"
          ]
        }
      ],
      "source": [
        "##---------Type the code below this line------------------##\n",
        "print(\"Number of duplicates =\", raw_DF.duplicated().sum())\n",
        "display()\n",
        "print(\"DataFrame shape before dropping duplicates\", raw_DF.shape)\n",
        "raw_DF.drop_duplicates(subset=None, keep='first', inplace=True)\n",
        "print(\"DataFrame shape after dropping duplicates\", raw_DF.shape)"
      ]
    },
    {
      "cell_type": "markdown",
      "id": "e3cec4fc",
      "metadata": {
        "id": "e3cec4fc"
      },
      "source": [
        "## 3.3 Show whether there are any missing values in each attribute. Report the same.\n"
      ]
    },
    {
      "cell_type": "code",
      "execution_count": 113,
      "id": "747250db",
      "metadata": {
        "colab": {
          "base_uri": "https://localhost:8080/"
        },
        "id": "747250db",
        "outputId": "0f5d3226-cc6b-41bb-ebf0-303850d5c4fc"
      },
      "outputs": [
        {
          "output_type": "stream",
          "name": "stdout",
          "text": [
            "Number of missing values for attribute age = 9\n",
            "Number of missing values for attribute bp = 12\n",
            "Number of missing values for attribute sg = 47\n",
            "Number of missing values for attribute al = 46\n",
            "Number of missing values for attribute su = 49\n",
            "Number of missing values for attribute rbc = 152\n",
            "Number of missing values for attribute pc = 65\n",
            "Number of missing values for attribute pcc = 4\n",
            "Number of missing values for attribute ba = 4\n",
            "Number of missing values for attribute bgr = 44\n",
            "Number of missing values for attribute bu = 19\n",
            "Number of missing values for attribute sc = 17\n",
            "Number of missing values for attribute sod = 87\n",
            "Number of missing values for attribute pot = 88\n",
            "Number of missing values for attribute hemo = 52\n",
            "Number of missing values for attribute pcv = 71\n",
            "Number of missing values for attribute wbcc = 106\n",
            "Number of missing values for attribute rbcc = 131\n",
            "Number of missing values for attribute htn = 2\n",
            "Number of missing values for attribute dm = 2\n",
            "Number of missing values for attribute cad = 2\n",
            "Number of missing values for attribute appet = 1\n",
            "Number of missing values for attribute pe = 1\n",
            "Number of missing values for attribute ane = 1\n",
            "Number of missing values for attribute class = 0\n"
          ]
        }
      ],
      "source": [
        "##---------Type the code below this line------------------##\n",
        "missing_DF = raw_DF.isnull()\n",
        "for attr in missing_DF.columns:\n",
        "    print(\"Number of missing values for attribute \" + attr +\" =\", missing_DF[attr].sum())"
      ]
    },
    {
      "cell_type": "markdown",
      "id": "e7b4a34f",
      "metadata": {
        "id": "e7b4a34f"
      },
      "source": [
        "## 3.4 Clean the missing data using any imputation technique, mention the method used and again report the change after cleaning the data."
      ]
    },
    {
      "cell_type": "code",
      "execution_count": 114,
      "id": "ee55faf4",
      "metadata": {
        "colab": {
          "base_uri": "https://localhost:8080/"
        },
        "id": "ee55faf4",
        "outputId": "b258f32e-3c6e-4a23-eb12-c6ae3f195c0e"
      },
      "outputs": [
        {
          "output_type": "stream",
          "name": "stdout",
          "text": [
            "Number of missing values After cleaning the data for attribute age = 0\n",
            "Number of missing values After cleaning the data for attribute bp = 0\n",
            "Number of missing values After cleaning the data for attribute sg = 0\n",
            "Number of missing values After cleaning the data for attribute al = 0\n",
            "Number of missing values After cleaning the data for attribute su = 0\n",
            "Number of missing values After cleaning the data for attribute rbc = 0\n",
            "Number of missing values After cleaning the data for attribute pc = 0\n",
            "Number of missing values After cleaning the data for attribute pcc = 0\n",
            "Number of missing values After cleaning the data for attribute ba = 0\n",
            "Number of missing values After cleaning the data for attribute bgr = 0\n",
            "Number of missing values After cleaning the data for attribute bu = 0\n",
            "Number of missing values After cleaning the data for attribute sc = 0\n",
            "Number of missing values After cleaning the data for attribute sod = 0\n",
            "Number of missing values After cleaning the data for attribute pot = 0\n",
            "Number of missing values After cleaning the data for attribute hemo = 0\n",
            "Number of missing values After cleaning the data for attribute pcv = 0\n",
            "Number of missing values After cleaning the data for attribute wbcc = 0\n",
            "Number of missing values After cleaning the data for attribute rbcc = 0\n",
            "Number of missing values After cleaning the data for attribute htn = 0\n",
            "Number of missing values After cleaning the data for attribute dm = 0\n",
            "Number of missing values After cleaning the data for attribute cad = 0\n",
            "Number of missing values After cleaning the data for attribute appet = 0\n",
            "Number of missing values After cleaning the data for attribute pe = 0\n",
            "Number of missing values After cleaning the data for attribute ane = 0\n",
            "Number of missing values After cleaning the data for attribute class = 0\n"
          ]
        }
      ],
      "source": [
        "##---------Type the code below this line------------------##\n",
        "numerical_columns = ['age','bp','sg','al','su','bgr','bu','sc','sod','pot','hemo','pcv','wbcc','rbcc']\n",
        "nominal_columns = ['rbc','pc','pcc','ba','htn','dm','cad','appet','pe','ane','class']\n",
        "imputer_nominal = SimpleImputer(strategy=\"most_frequent\")\n",
        "imputer_numeric = SimpleImputer(strategy='mean')\n",
        "raw_DF[nominal_columns] = imputer_nominal.fit_transform(raw_DF[nominal_columns])\n",
        "raw_DF[numerical_columns] = imputer_numeric.fit_transform(raw_DF[numerical_columns])\n",
        "\n",
        "missing_DF = raw_DF.isnull()\n",
        "for attr in missing_DF.columns:\n",
        "    print(\"Number of missing values After cleaning the data for attribute \" + attr +\" =\", missing_DF[attr].sum())"
      ]
    },
    {
      "cell_type": "markdown",
      "id": "33700253",
      "metadata": {
        "id": "33700253"
      },
      "source": [
        "## 3.5 Check if all the attributes are following the same format and are consistent. If not, report all such attributes and what inconsistencies are present."
      ]
    },
    {
      "cell_type": "code",
      "execution_count": null,
      "id": "e9124fcc",
      "metadata": {
        "id": "e9124fcc"
      },
      "outputs": [],
      "source": [
        "##---------Type the code below this line------------------##"
      ]
    },
    {
      "cell_type": "markdown",
      "id": "3c936608",
      "metadata": {
        "id": "3c936608"
      },
      "source": [
        "## 3.6 Correct the data if there are inconsistencies from 3.5. Report or print the data after correction."
      ]
    },
    {
      "cell_type": "code",
      "execution_count": null,
      "id": "1c047e47",
      "metadata": {
        "id": "1c047e47"
      },
      "outputs": [],
      "source": [
        "##---------Type the code below this line------------------##"
      ]
    },
    {
      "cell_type": "markdown",
      "id": "793cd04b",
      "metadata": {
        "id": "793cd04b"
      },
      "source": [
        "## 3.7 Identify the target variables.\n"
      ]
    },
    {
      "cell_type": "code",
      "execution_count": null,
      "id": "c9089b57",
      "metadata": {
        "id": "c9089b57"
      },
      "outputs": [],
      "source": [
        "##---------Type the code below this line------------------##"
      ]
    },
    {
      "cell_type": "markdown",
      "id": "2d1ecddb",
      "metadata": {
        "id": "2d1ecddb"
      },
      "source": [
        "## 3.8 Separate the data front the target such that the dataset is in the form of (X,y) or (Features, Label)\n"
      ]
    },
    {
      "cell_type": "code",
      "execution_count": null,
      "id": "2258a7c9",
      "metadata": {
        "id": "2258a7c9"
      },
      "outputs": [],
      "source": [
        "##---------Type the code below this line------------------##"
      ]
    },
    {
      "cell_type": "markdown",
      "id": "280c1f13",
      "metadata": {
        "id": "280c1f13"
      },
      "source": [
        "## 3.9 Discretize the target variable or perform one-hot encoding on the target or any other as and if required.\n"
      ]
    },
    {
      "cell_type": "code",
      "execution_count": null,
      "id": "9a043cd5",
      "metadata": {
        "id": "9a043cd5"
      },
      "outputs": [],
      "source": [
        "##---------Type the code below this line------------------##"
      ]
    },
    {
      "cell_type": "markdown",
      "id": "3ae0b5d2",
      "metadata": {
        "id": "3ae0b5d2"
      },
      "source": [
        "# 4. Data Exploration using various plots"
      ]
    },
    {
      "cell_type": "markdown",
      "id": "186bf4d7",
      "metadata": {
        "id": "186bf4d7"
      },
      "source": [
        "## 4.1 Scatter plot of each attribute with the target."
      ]
    },
    {
      "cell_type": "code",
      "execution_count": null,
      "id": "868d7b27",
      "metadata": {
        "id": "868d7b27"
      },
      "outputs": [],
      "source": [
        "##---------Type the code below this line------------------##"
      ]
    },
    {
      "cell_type": "markdown",
      "id": "57150fdd",
      "metadata": {
        "id": "57150fdd"
      },
      "source": [
        "## 4.2 Pair plot of each attribute to identify the linear relationships among the attributes.\n"
      ]
    },
    {
      "cell_type": "code",
      "execution_count": null,
      "id": "dd3118eb",
      "metadata": {
        "id": "dd3118eb"
      },
      "outputs": [],
      "source": [
        "##---------Type the code below this line------------------##"
      ]
    },
    {
      "cell_type": "markdown",
      "id": "2b908288",
      "metadata": {
        "id": "2b908288"
      },
      "source": [
        "## 4.3 Regression plots to identify the linear relationship between each attribute with the target variable. \n"
      ]
    },
    {
      "cell_type": "code",
      "execution_count": null,
      "id": "fe3ec5ed",
      "metadata": {
        "id": "fe3ec5ed"
      },
      "outputs": [],
      "source": [
        "##---------Type the code below this line------------------##"
      ]
    },
    {
      "cell_type": "markdown",
      "id": "575f9e37",
      "metadata": {
        "id": "575f9e37"
      },
      "source": [
        "## 4.4 Can any other plot help to identify the optimal set of attributes that can be used for classification. The plot will be based on linear or nonlinear separations. If there is/are such plots, name them, explain why you think they can be helpful in the task and perform the plot as well.\n"
      ]
    },
    {
      "cell_type": "code",
      "execution_count": null,
      "id": "4d614311",
      "metadata": {
        "id": "4d614311"
      },
      "outputs": [],
      "source": [
        "##---------Type the code below this line------------------##"
      ]
    },
    {
      "cell_type": "markdown",
      "id": "bdbc82a1",
      "metadata": {
        "id": "bdbc82a1"
      },
      "source": [
        "# 5. Data Wrangling\n",
        "\n"
      ]
    },
    {
      "cell_type": "markdown",
      "id": "77e57102",
      "metadata": {
        "id": "77e57102"
      },
      "source": [
        "## 5.1 Display correlation heatmap of each attribute against the target and report which features are significant."
      ]
    },
    {
      "cell_type": "code",
      "execution_count": null,
      "id": "7f20f541",
      "metadata": {
        "id": "7f20f541"
      },
      "outputs": [],
      "source": [
        "##---------Type the code below this line------------------##"
      ]
    },
    {
      "cell_type": "markdown",
      "id": "ca214eb3",
      "metadata": {
        "id": "ca214eb3"
      },
      "source": [
        "## 5.2 Univariate Filters – Identify top 5 significant features by evaluating each feature independently with respect to the target variable by exploring \n",
        "1. Mutual Information (Information Gain)\n",
        "2. Gini index\n",
        "3. Gain Ratio\n",
        "4. Chi-Squared test\n",
        "5. Fisher Score\n",
        "(From the above 5 you are required to use only any <b>three</b>) \n",
        "\n",
        "Write your observations from the results of each method and report the top 5 significant features for each of the above methods. Also plot a graph of significant features for each of them for better visualization."
      ]
    },
    {
      "cell_type": "code",
      "execution_count": null,
      "id": "a85e9754",
      "metadata": {
        "id": "a85e9754"
      },
      "outputs": [],
      "source": [
        "##---------Type the code below this line------------------##"
      ]
    },
    {
      "cell_type": "markdown",
      "id": "06f1173c",
      "metadata": {
        "id": "06f1173c"
      },
      "source": [
        "## 5.3 Train a “DecisionTreeClassifier” on the entire data and use the classifier to extract the top 5 significant features. Plot graph of significant features for better visualization."
      ]
    },
    {
      "cell_type": "code",
      "execution_count": null,
      "id": "ff644636",
      "metadata": {
        "id": "ff644636"
      },
      "outputs": [],
      "source": [
        "##---------Type the code below this line------------------##"
      ]
    },
    {
      "cell_type": "markdown",
      "id": "040afed8",
      "metadata": {
        "id": "040afed8"
      },
      "source": [
        "## 5.4 Using \"mlxtend\" library perform SequentialFeatureSelector to identify top 5 features."
      ]
    },
    {
      "cell_type": "code",
      "execution_count": null,
      "id": "7042235d",
      "metadata": {
        "id": "7042235d"
      },
      "outputs": [],
      "source": [
        "##---------Type the code below this line------------------##"
      ]
    },
    {
      "cell_type": "markdown",
      "id": "eb57940c",
      "metadata": {
        "id": "eb57940c"
      },
      "source": [
        "## 5.5 Conclude the top 3 significant features with necessary justifications."
      ]
    },
    {
      "cell_type": "markdown",
      "id": "324448eb",
      "metadata": {
        "id": "324448eb"
      },
      "source": [
        "--------------Type the answers below this line--------------"
      ]
    }
  ],
  "metadata": {
    "kernelspec": {
      "display_name": "Python 3 (ipykernel)",
      "language": "python",
      "name": "python3"
    },
    "language_info": {
      "codemirror_mode": {
        "name": "ipython",
        "version": 3
      },
      "file_extension": ".py",
      "mimetype": "text/x-python",
      "name": "python",
      "nbconvert_exporter": "python",
      "pygments_lexer": "ipython3",
      "version": "3.8.10"
    },
    "colab": {
      "name": "IDS Assignment.ipynb",
      "provenance": [],
      "collapsed_sections": [],
      "include_colab_link": true
    }
  },
  "nbformat": 4,
  "nbformat_minor": 5
}