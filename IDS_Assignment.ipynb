{
  "cells": [
    {
      "cell_type": "markdown",
      "metadata": {
        "id": "view-in-github",
        "colab_type": "text"
      },
      "source": [
        "<a href=\"https://colab.research.google.com/github/LeNovice/PSW/blob/main/IDS_Assignment.ipynb\" target=\"_parent\"><img src=\"https://colab.research.google.com/assets/colab-badge.svg\" alt=\"Open In Colab\"/></a>"
      ]
    },
    {
      "cell_type": "markdown",
      "id": "9bda93ba",
      "metadata": {
        "id": "9bda93ba"
      },
      "source": [
        "## Group No\n",
        "\n",
        "## Group Member Names:\n",
        "1. WADIKAR PINAK SUHAS [2020sc04158]\n",
        "2. HIMANSHU SINGHAL [2020sc04154]\n",
        "3.\n",
        "\n"
      ]
    },
    {
      "cell_type": "markdown",
      "id": "f5d80c60",
      "metadata": {
        "id": "f5d80c60"
      },
      "source": [
        "# 1. Business Understanding\n",
        " \n",
        "Students are expected to identify a classification problem of your choice. You have to detail the Business Understanding part of your problem under this heading which basically addresses the following questions.\n",
        " \n",
        "   1. What is the problem that you are trying to solve?\n",
        "\n",
        "   Ans: Chronic Kidney Disease is a persistant disease which is difficult to detect. We can ensure whether a particular person is susceptible to Chronic Kidney Disease using attributes like his Age, BP etc. We are trying to develop a classification model which classifies whether a person is Susceptible to Chronic Kidney Disease\n",
        "   2. What data do you need to answer the above problem?\n",
        "\n",
        "   Ans: For this particular task we need about 25 different parameters to classify a person to be susceptible to CKD. The parameters are listed below:\n",
        ">*   age - age\n",
        ">*   bp - blood pressure\n",
        ">*   sg - specific gravity\n",
        ">*   al - albumin\n",
        ">*   su - sugar\n",
        ">*   rbc - red blood cells\n",
        ">*   pc - pus cell\n",
        ">*   pcc - pus cell clumps\n",
        ">*   ba - bacteria\n",
        ">*   bgr - blood glucose random\n",
        ">*   bu - blood urea\n",
        ">*   sc - serum creatinine\n",
        ">*   sod - sodium\n",
        ">*   pot - potassium\n",
        ">*   hemo - hemoglobin\n",
        ">*   pcv - packed cell volume\n",
        ">*   wc - white blood cell count\n",
        ">*   rc - red blood cell count\n",
        ">*   htn - hypertension\n",
        ">*   dm - diabetes mellitus\n",
        ">*   cad - coronary artery disease\n",
        ">*   appet - appetite\n",
        ">*   pe - pedal edema\n",
        ">*   ane - anemia\n",
        "Finally we have class which predicts CKD or Non-CKD patient\n",
        "   3. What are the different sources of data?\n",
        "\n",
        "   Ans: The data is collected from a research survey in Apollo Hospitals,TamilNadu, India. Similar data can be scraped from any official websited like WHO where details of such patients are stored. The data selected is not pre-cleaned and we need to analyse the data to build an efficient model.\n",
        "\n",
        "   4. What kind of analytics task are you performing?\n",
        "\n",
        "   Ans: In this project, we are performing Predictive Analytics since we are building a classification model. Raw data cleanup is done where we ise imputers to fill missing values. After that Data condensation/Discretization is done to convert Nominal attributes to numerical equivalents. Duplicate entries are checked for and removed if present. We have also used Univariate Filters to filter data.\n",
        "\n"
      ]
    },
    {
      "cell_type": "raw",
      "id": "3298e121",
      "metadata": {
        "id": "3298e121"
      },
      "source": [
        "--------------Type the answers below this line-------------- "
      ]
    },
    {
      "cell_type": "code",
      "source": [
        "import pandas as pd\n",
        "from sklearn.impute import SimpleImputer\n",
        "import matplotlib.pyplot as plt\n",
        "import seaborn as sns\n",
        "import numpy as np\n",
        "import requests, csv \n",
        "from sklearn.feature_selection import chi2\n",
        "from sklearn.model_selection import train_test_split\n",
        "#We use Decision tree for classification\n",
        "from sklearn.tree import DecisionTreeClassifier\n",
        "from sklearn import tree\n",
        "\n",
        "import joblib\n",
        "import sys\n",
        "sys.modules['sklearn.externals.joblib'] = joblib\n",
        "from mlxtend.feature_selection import SequentialFeatureSelector as SFS"
      ],
      "metadata": {
        "id": "RYeQWj4kYBs4"
      },
      "id": "RYeQWj4kYBs4",
      "execution_count": 43,
      "outputs": []
    },
    {
      "cell_type": "markdown",
      "id": "3cc8e0cb",
      "metadata": {
        "id": "3cc8e0cb"
      },
      "source": [
        "# 2. Data Acquisition\n",
        " \n",
        "For the problem identified by you, students have to find the data source themselves which should be a website which has the required data in it. You have to write Python crawler code to scrape data from the respective website rather than downloading ready-made dataset as such from sources like Kaggle etc. \n",
        "\n",
        "(Data downloaded from website like Kaggle will be awarded negative marks.)\n",
        "\n",
        "## 2.1 Code for scraping data from website\n",
        "\n"
      ]
    },
    {
      "cell_type": "code",
      "execution_count": 44,
      "id": "4b51d895",
      "metadata": {
        "id": "4b51d895"
      },
      "outputs": [],
      "source": [
        "##---------Type the code below this line------------------##\n",
        "CSV_URL = 'https://raw.githubusercontent.com/ParvN/Chronic-Kidney-Disease-Classification/master/ckd.csv'\n",
        "with requests.Session() as s:\n",
        "    download = s.get(CSV_URL)\n",
        "\n",
        "    decoded_content = download.content.decode('utf-8')\n",
        "\n",
        "    cr = csv.reader(decoded_content.splitlines(), delimiter=',')\n",
        "    my_list = list(cr)"
      ]
    },
    {
      "cell_type": "markdown",
      "id": "49530d0c",
      "metadata": {
        "id": "49530d0c"
      },
      "source": [
        "## 2.2 Code for converting the above scraped data into a dataframe"
      ]
    },
    {
      "cell_type": "code",
      "execution_count": 45,
      "id": "c1f4c171",
      "metadata": {
        "id": "c1f4c171"
      },
      "outputs": [],
      "source": [
        "##---------Type the code below this line------------------##\n",
        "raw_DF = pd.DataFrame(my_list)\n",
        "#display(raw_DF)"
      ]
    },
    {
      "cell_type": "markdown",
      "id": "7b1fea4d",
      "metadata": {
        "id": "7b1fea4d"
      },
      "source": [
        "## 2.3 Confirm the data has been correctly by displaying the first 5 and last 5 records."
      ]
    },
    {
      "cell_type": "code",
      "execution_count": 46,
      "id": "624e6c58",
      "metadata": {
        "colab": {
          "base_uri": "https://localhost:8080/",
          "height": 430
        },
        "id": "624e6c58",
        "outputId": "6e171a07-80bb-45a4-ef4e-2ef976496965"
      },
      "outputs": [
        {
          "output_type": "stream",
          "name": "stdout",
          "text": [
            "Top 5\n"
          ]
        },
        {
          "output_type": "display_data",
          "data": {
            "text/html": [
              "\n",
              "  <div id=\"df-d3262bab-863e-4501-a457-b0dc7082fa21\">\n",
              "    <div class=\"colab-df-container\">\n",
              "      <div>\n",
              "<style scoped>\n",
              "    .dataframe tbody tr th:only-of-type {\n",
              "        vertical-align: middle;\n",
              "    }\n",
              "\n",
              "    .dataframe tbody tr th {\n",
              "        vertical-align: top;\n",
              "    }\n",
              "\n",
              "    .dataframe thead th {\n",
              "        text-align: right;\n",
              "    }\n",
              "</style>\n",
              "<table border=\"1\" class=\"dataframe\">\n",
              "  <thead>\n",
              "    <tr style=\"text-align: right;\">\n",
              "      <th></th>\n",
              "      <th>0</th>\n",
              "      <th>1</th>\n",
              "      <th>2</th>\n",
              "      <th>3</th>\n",
              "      <th>4</th>\n",
              "      <th>5</th>\n",
              "      <th>6</th>\n",
              "      <th>7</th>\n",
              "      <th>8</th>\n",
              "      <th>9</th>\n",
              "      <th>10</th>\n",
              "      <th>11</th>\n",
              "      <th>12</th>\n",
              "      <th>13</th>\n",
              "      <th>14</th>\n",
              "      <th>15</th>\n",
              "      <th>16</th>\n",
              "      <th>17</th>\n",
              "      <th>18</th>\n",
              "      <th>19</th>\n",
              "      <th>20</th>\n",
              "      <th>21</th>\n",
              "      <th>22</th>\n",
              "      <th>23</th>\n",
              "      <th>24</th>\n",
              "    </tr>\n",
              "  </thead>\n",
              "  <tbody>\n",
              "    <tr>\n",
              "      <th>0</th>\n",
              "      <td>age</td>\n",
              "      <td>bp</td>\n",
              "      <td>sg</td>\n",
              "      <td>al</td>\n",
              "      <td>su</td>\n",
              "      <td>rbc</td>\n",
              "      <td>pc</td>\n",
              "      <td>pcc</td>\n",
              "      <td>ba</td>\n",
              "      <td>bgr</td>\n",
              "      <td>bu</td>\n",
              "      <td>sc</td>\n",
              "      <td>sod</td>\n",
              "      <td>pot</td>\n",
              "      <td>hemo</td>\n",
              "      <td>pcv</td>\n",
              "      <td>wbcc</td>\n",
              "      <td>rbcc</td>\n",
              "      <td>htn</td>\n",
              "      <td>dm</td>\n",
              "      <td>cad</td>\n",
              "      <td>appet</td>\n",
              "      <td>pe</td>\n",
              "      <td>ane</td>\n",
              "      <td>class</td>\n",
              "    </tr>\n",
              "    <tr>\n",
              "      <th>1</th>\n",
              "      <td>48</td>\n",
              "      <td>80</td>\n",
              "      <td>1.020</td>\n",
              "      <td>1</td>\n",
              "      <td>0</td>\n",
              "      <td>?</td>\n",
              "      <td>normal</td>\n",
              "      <td>notpresent</td>\n",
              "      <td>notpresent</td>\n",
              "      <td>121</td>\n",
              "      <td>36</td>\n",
              "      <td>1.2</td>\n",
              "      <td>?</td>\n",
              "      <td>?</td>\n",
              "      <td>15.4</td>\n",
              "      <td>44</td>\n",
              "      <td>7800</td>\n",
              "      <td>5.2</td>\n",
              "      <td>yes</td>\n",
              "      <td>yes</td>\n",
              "      <td>no</td>\n",
              "      <td>good</td>\n",
              "      <td>no</td>\n",
              "      <td>no</td>\n",
              "      <td>ckd</td>\n",
              "    </tr>\n",
              "    <tr>\n",
              "      <th>2</th>\n",
              "      <td>7</td>\n",
              "      <td>50</td>\n",
              "      <td>1.020</td>\n",
              "      <td>4</td>\n",
              "      <td>0</td>\n",
              "      <td>?</td>\n",
              "      <td>normal</td>\n",
              "      <td>notpresent</td>\n",
              "      <td>notpresent</td>\n",
              "      <td>?</td>\n",
              "      <td>18</td>\n",
              "      <td>0.8</td>\n",
              "      <td>?</td>\n",
              "      <td>?</td>\n",
              "      <td>11.3</td>\n",
              "      <td>38</td>\n",
              "      <td>6000</td>\n",
              "      <td>?</td>\n",
              "      <td>no</td>\n",
              "      <td>no</td>\n",
              "      <td>no</td>\n",
              "      <td>good</td>\n",
              "      <td>no</td>\n",
              "      <td>no</td>\n",
              "      <td>ckd</td>\n",
              "    </tr>\n",
              "    <tr>\n",
              "      <th>3</th>\n",
              "      <td>62</td>\n",
              "      <td>80</td>\n",
              "      <td>1.010</td>\n",
              "      <td>2</td>\n",
              "      <td>3</td>\n",
              "      <td>normal</td>\n",
              "      <td>normal</td>\n",
              "      <td>notpresent</td>\n",
              "      <td>notpresent</td>\n",
              "      <td>423</td>\n",
              "      <td>53</td>\n",
              "      <td>1.8</td>\n",
              "      <td>?</td>\n",
              "      <td>?</td>\n",
              "      <td>9.6</td>\n",
              "      <td>31</td>\n",
              "      <td>7500</td>\n",
              "      <td>?</td>\n",
              "      <td>no</td>\n",
              "      <td>yes</td>\n",
              "      <td>no</td>\n",
              "      <td>poor</td>\n",
              "      <td>no</td>\n",
              "      <td>yes</td>\n",
              "      <td>ckd</td>\n",
              "    </tr>\n",
              "    <tr>\n",
              "      <th>4</th>\n",
              "      <td>48</td>\n",
              "      <td>70</td>\n",
              "      <td>1.005</td>\n",
              "      <td>4</td>\n",
              "      <td>0</td>\n",
              "      <td>normal</td>\n",
              "      <td>abnormal</td>\n",
              "      <td>present</td>\n",
              "      <td>notpresent</td>\n",
              "      <td>117</td>\n",
              "      <td>56</td>\n",
              "      <td>3.8</td>\n",
              "      <td>111</td>\n",
              "      <td>2.5</td>\n",
              "      <td>11.2</td>\n",
              "      <td>32</td>\n",
              "      <td>6700</td>\n",
              "      <td>3.9</td>\n",
              "      <td>yes</td>\n",
              "      <td>no</td>\n",
              "      <td>no</td>\n",
              "      <td>poor</td>\n",
              "      <td>yes</td>\n",
              "      <td>yes</td>\n",
              "      <td>ckd</td>\n",
              "    </tr>\n",
              "  </tbody>\n",
              "</table>\n",
              "</div>\n",
              "      <button class=\"colab-df-convert\" onclick=\"convertToInteractive('df-d3262bab-863e-4501-a457-b0dc7082fa21')\"\n",
              "              title=\"Convert this dataframe to an interactive table.\"\n",
              "              style=\"display:none;\">\n",
              "        \n",
              "  <svg xmlns=\"http://www.w3.org/2000/svg\" height=\"24px\"viewBox=\"0 0 24 24\"\n",
              "       width=\"24px\">\n",
              "    <path d=\"M0 0h24v24H0V0z\" fill=\"none\"/>\n",
              "    <path d=\"M18.56 5.44l.94 2.06.94-2.06 2.06-.94-2.06-.94-.94-2.06-.94 2.06-2.06.94zm-11 1L8.5 8.5l.94-2.06 2.06-.94-2.06-.94L8.5 2.5l-.94 2.06-2.06.94zm10 10l.94 2.06.94-2.06 2.06-.94-2.06-.94-.94-2.06-.94 2.06-2.06.94z\"/><path d=\"M17.41 7.96l-1.37-1.37c-.4-.4-.92-.59-1.43-.59-.52 0-1.04.2-1.43.59L10.3 9.45l-7.72 7.72c-.78.78-.78 2.05 0 2.83L4 21.41c.39.39.9.59 1.41.59.51 0 1.02-.2 1.41-.59l7.78-7.78 2.81-2.81c.8-.78.8-2.07 0-2.86zM5.41 20L4 18.59l7.72-7.72 1.47 1.35L5.41 20z\"/>\n",
              "  </svg>\n",
              "      </button>\n",
              "      \n",
              "  <style>\n",
              "    .colab-df-container {\n",
              "      display:flex;\n",
              "      flex-wrap:wrap;\n",
              "      gap: 12px;\n",
              "    }\n",
              "\n",
              "    .colab-df-convert {\n",
              "      background-color: #E8F0FE;\n",
              "      border: none;\n",
              "      border-radius: 50%;\n",
              "      cursor: pointer;\n",
              "      display: none;\n",
              "      fill: #1967D2;\n",
              "      height: 32px;\n",
              "      padding: 0 0 0 0;\n",
              "      width: 32px;\n",
              "    }\n",
              "\n",
              "    .colab-df-convert:hover {\n",
              "      background-color: #E2EBFA;\n",
              "      box-shadow: 0px 1px 2px rgba(60, 64, 67, 0.3), 0px 1px 3px 1px rgba(60, 64, 67, 0.15);\n",
              "      fill: #174EA6;\n",
              "    }\n",
              "\n",
              "    [theme=dark] .colab-df-convert {\n",
              "      background-color: #3B4455;\n",
              "      fill: #D2E3FC;\n",
              "    }\n",
              "\n",
              "    [theme=dark] .colab-df-convert:hover {\n",
              "      background-color: #434B5C;\n",
              "      box-shadow: 0px 1px 3px 1px rgba(0, 0, 0, 0.15);\n",
              "      filter: drop-shadow(0px 1px 2px rgba(0, 0, 0, 0.3));\n",
              "      fill: #FFFFFF;\n",
              "    }\n",
              "  </style>\n",
              "\n",
              "      <script>\n",
              "        const buttonEl =\n",
              "          document.querySelector('#df-d3262bab-863e-4501-a457-b0dc7082fa21 button.colab-df-convert');\n",
              "        buttonEl.style.display =\n",
              "          google.colab.kernel.accessAllowed ? 'block' : 'none';\n",
              "\n",
              "        async function convertToInteractive(key) {\n",
              "          const element = document.querySelector('#df-d3262bab-863e-4501-a457-b0dc7082fa21');\n",
              "          const dataTable =\n",
              "            await google.colab.kernel.invokeFunction('convertToInteractive',\n",
              "                                                     [key], {});\n",
              "          if (!dataTable) return;\n",
              "\n",
              "          const docLinkHtml = 'Like what you see? Visit the ' +\n",
              "            '<a target=\"_blank\" href=https://colab.research.google.com/notebooks/data_table.ipynb>data table notebook</a>'\n",
              "            + ' to learn more about interactive tables.';\n",
              "          element.innerHTML = '';\n",
              "          dataTable['output_type'] = 'display_data';\n",
              "          await google.colab.output.renderOutput(dataTable, element);\n",
              "          const docLink = document.createElement('div');\n",
              "          docLink.innerHTML = docLinkHtml;\n",
              "          element.appendChild(docLink);\n",
              "        }\n",
              "      </script>\n",
              "    </div>\n",
              "  </div>\n",
              "  "
            ],
            "text/plain": [
              "    0   1      2   3   4       5   ...   19   20     21   22   23     24\n",
              "0  age  bp     sg  al  su     rbc  ...   dm  cad  appet   pe  ane  class\n",
              "1   48  80  1.020   1   0       ?  ...  yes   no   good   no   no    ckd\n",
              "2    7  50  1.020   4   0       ?  ...   no   no   good   no   no    ckd\n",
              "3   62  80  1.010   2   3  normal  ...  yes   no   poor   no  yes    ckd\n",
              "4   48  70  1.005   4   0  normal  ...   no   no   poor  yes  yes    ckd\n",
              "\n",
              "[5 rows x 25 columns]"
            ]
          },
          "metadata": {}
        },
        {
          "output_type": "stream",
          "name": "stdout",
          "text": [
            "Bottom 5\n"
          ]
        },
        {
          "output_type": "display_data",
          "data": {
            "text/html": [
              "\n",
              "  <div id=\"df-daf6a41d-2a24-46df-ae0a-74e0412841b4\">\n",
              "    <div class=\"colab-df-container\">\n",
              "      <div>\n",
              "<style scoped>\n",
              "    .dataframe tbody tr th:only-of-type {\n",
              "        vertical-align: middle;\n",
              "    }\n",
              "\n",
              "    .dataframe tbody tr th {\n",
              "        vertical-align: top;\n",
              "    }\n",
              "\n",
              "    .dataframe thead th {\n",
              "        text-align: right;\n",
              "    }\n",
              "</style>\n",
              "<table border=\"1\" class=\"dataframe\">\n",
              "  <thead>\n",
              "    <tr style=\"text-align: right;\">\n",
              "      <th></th>\n",
              "      <th>0</th>\n",
              "      <th>1</th>\n",
              "      <th>2</th>\n",
              "      <th>3</th>\n",
              "      <th>4</th>\n",
              "      <th>5</th>\n",
              "      <th>6</th>\n",
              "      <th>7</th>\n",
              "      <th>8</th>\n",
              "      <th>9</th>\n",
              "      <th>10</th>\n",
              "      <th>11</th>\n",
              "      <th>12</th>\n",
              "      <th>13</th>\n",
              "      <th>14</th>\n",
              "      <th>15</th>\n",
              "      <th>16</th>\n",
              "      <th>17</th>\n",
              "      <th>18</th>\n",
              "      <th>19</th>\n",
              "      <th>20</th>\n",
              "      <th>21</th>\n",
              "      <th>22</th>\n",
              "      <th>23</th>\n",
              "      <th>24</th>\n",
              "    </tr>\n",
              "  </thead>\n",
              "  <tbody>\n",
              "    <tr>\n",
              "      <th>396</th>\n",
              "      <td>55</td>\n",
              "      <td>80</td>\n",
              "      <td>1.020</td>\n",
              "      <td>0</td>\n",
              "      <td>0</td>\n",
              "      <td>normal</td>\n",
              "      <td>normal</td>\n",
              "      <td>notpresent</td>\n",
              "      <td>notpresent</td>\n",
              "      <td>140</td>\n",
              "      <td>49</td>\n",
              "      <td>0.5</td>\n",
              "      <td>150</td>\n",
              "      <td>4.9</td>\n",
              "      <td>15.7</td>\n",
              "      <td>47</td>\n",
              "      <td>6700</td>\n",
              "      <td>4.9</td>\n",
              "      <td>no</td>\n",
              "      <td>no</td>\n",
              "      <td>no</td>\n",
              "      <td>good</td>\n",
              "      <td>no</td>\n",
              "      <td>no</td>\n",
              "      <td>notckd</td>\n",
              "    </tr>\n",
              "    <tr>\n",
              "      <th>397</th>\n",
              "      <td>42</td>\n",
              "      <td>70</td>\n",
              "      <td>1.025</td>\n",
              "      <td>0</td>\n",
              "      <td>0</td>\n",
              "      <td>normal</td>\n",
              "      <td>normal</td>\n",
              "      <td>notpresent</td>\n",
              "      <td>notpresent</td>\n",
              "      <td>75</td>\n",
              "      <td>31</td>\n",
              "      <td>1.2</td>\n",
              "      <td>141</td>\n",
              "      <td>3.5</td>\n",
              "      <td>16.5</td>\n",
              "      <td>54</td>\n",
              "      <td>7800</td>\n",
              "      <td>6.2</td>\n",
              "      <td>no</td>\n",
              "      <td>no</td>\n",
              "      <td>no</td>\n",
              "      <td>good</td>\n",
              "      <td>no</td>\n",
              "      <td>no</td>\n",
              "      <td>notckd</td>\n",
              "    </tr>\n",
              "    <tr>\n",
              "      <th>398</th>\n",
              "      <td>12</td>\n",
              "      <td>80</td>\n",
              "      <td>1.020</td>\n",
              "      <td>0</td>\n",
              "      <td>0</td>\n",
              "      <td>normal</td>\n",
              "      <td>normal</td>\n",
              "      <td>notpresent</td>\n",
              "      <td>notpresent</td>\n",
              "      <td>100</td>\n",
              "      <td>26</td>\n",
              "      <td>0.6</td>\n",
              "      <td>137</td>\n",
              "      <td>4.4</td>\n",
              "      <td>15.8</td>\n",
              "      <td>49</td>\n",
              "      <td>6600</td>\n",
              "      <td>5.4</td>\n",
              "      <td>no</td>\n",
              "      <td>no</td>\n",
              "      <td>no</td>\n",
              "      <td>good</td>\n",
              "      <td>no</td>\n",
              "      <td>no</td>\n",
              "      <td>notckd</td>\n",
              "    </tr>\n",
              "    <tr>\n",
              "      <th>399</th>\n",
              "      <td>17</td>\n",
              "      <td>60</td>\n",
              "      <td>1.025</td>\n",
              "      <td>0</td>\n",
              "      <td>0</td>\n",
              "      <td>normal</td>\n",
              "      <td>normal</td>\n",
              "      <td>notpresent</td>\n",
              "      <td>notpresent</td>\n",
              "      <td>114</td>\n",
              "      <td>50</td>\n",
              "      <td>1</td>\n",
              "      <td>135</td>\n",
              "      <td>4.9</td>\n",
              "      <td>14.2</td>\n",
              "      <td>51</td>\n",
              "      <td>7200</td>\n",
              "      <td>5.9</td>\n",
              "      <td>no</td>\n",
              "      <td>no</td>\n",
              "      <td>no</td>\n",
              "      <td>good</td>\n",
              "      <td>no</td>\n",
              "      <td>no</td>\n",
              "      <td>notckd</td>\n",
              "    </tr>\n",
              "    <tr>\n",
              "      <th>400</th>\n",
              "      <td>58</td>\n",
              "      <td>80</td>\n",
              "      <td>1.025</td>\n",
              "      <td>0</td>\n",
              "      <td>0</td>\n",
              "      <td>normal</td>\n",
              "      <td>normal</td>\n",
              "      <td>notpresent</td>\n",
              "      <td>notpresent</td>\n",
              "      <td>131</td>\n",
              "      <td>18</td>\n",
              "      <td>1.1</td>\n",
              "      <td>141</td>\n",
              "      <td>3.5</td>\n",
              "      <td>15.8</td>\n",
              "      <td>53</td>\n",
              "      <td>6800</td>\n",
              "      <td>6.1</td>\n",
              "      <td>no</td>\n",
              "      <td>no</td>\n",
              "      <td>no</td>\n",
              "      <td>good</td>\n",
              "      <td>no</td>\n",
              "      <td>no</td>\n",
              "      <td>notckd</td>\n",
              "    </tr>\n",
              "  </tbody>\n",
              "</table>\n",
              "</div>\n",
              "      <button class=\"colab-df-convert\" onclick=\"convertToInteractive('df-daf6a41d-2a24-46df-ae0a-74e0412841b4')\"\n",
              "              title=\"Convert this dataframe to an interactive table.\"\n",
              "              style=\"display:none;\">\n",
              "        \n",
              "  <svg xmlns=\"http://www.w3.org/2000/svg\" height=\"24px\"viewBox=\"0 0 24 24\"\n",
              "       width=\"24px\">\n",
              "    <path d=\"M0 0h24v24H0V0z\" fill=\"none\"/>\n",
              "    <path d=\"M18.56 5.44l.94 2.06.94-2.06 2.06-.94-2.06-.94-.94-2.06-.94 2.06-2.06.94zm-11 1L8.5 8.5l.94-2.06 2.06-.94-2.06-.94L8.5 2.5l-.94 2.06-2.06.94zm10 10l.94 2.06.94-2.06 2.06-.94-2.06-.94-.94-2.06-.94 2.06-2.06.94z\"/><path d=\"M17.41 7.96l-1.37-1.37c-.4-.4-.92-.59-1.43-.59-.52 0-1.04.2-1.43.59L10.3 9.45l-7.72 7.72c-.78.78-.78 2.05 0 2.83L4 21.41c.39.39.9.59 1.41.59.51 0 1.02-.2 1.41-.59l7.78-7.78 2.81-2.81c.8-.78.8-2.07 0-2.86zM5.41 20L4 18.59l7.72-7.72 1.47 1.35L5.41 20z\"/>\n",
              "  </svg>\n",
              "      </button>\n",
              "      \n",
              "  <style>\n",
              "    .colab-df-container {\n",
              "      display:flex;\n",
              "      flex-wrap:wrap;\n",
              "      gap: 12px;\n",
              "    }\n",
              "\n",
              "    .colab-df-convert {\n",
              "      background-color: #E8F0FE;\n",
              "      border: none;\n",
              "      border-radius: 50%;\n",
              "      cursor: pointer;\n",
              "      display: none;\n",
              "      fill: #1967D2;\n",
              "      height: 32px;\n",
              "      padding: 0 0 0 0;\n",
              "      width: 32px;\n",
              "    }\n",
              "\n",
              "    .colab-df-convert:hover {\n",
              "      background-color: #E2EBFA;\n",
              "      box-shadow: 0px 1px 2px rgba(60, 64, 67, 0.3), 0px 1px 3px 1px rgba(60, 64, 67, 0.15);\n",
              "      fill: #174EA6;\n",
              "    }\n",
              "\n",
              "    [theme=dark] .colab-df-convert {\n",
              "      background-color: #3B4455;\n",
              "      fill: #D2E3FC;\n",
              "    }\n",
              "\n",
              "    [theme=dark] .colab-df-convert:hover {\n",
              "      background-color: #434B5C;\n",
              "      box-shadow: 0px 1px 3px 1px rgba(0, 0, 0, 0.15);\n",
              "      filter: drop-shadow(0px 1px 2px rgba(0, 0, 0, 0.3));\n",
              "      fill: #FFFFFF;\n",
              "    }\n",
              "  </style>\n",
              "\n",
              "      <script>\n",
              "        const buttonEl =\n",
              "          document.querySelector('#df-daf6a41d-2a24-46df-ae0a-74e0412841b4 button.colab-df-convert');\n",
              "        buttonEl.style.display =\n",
              "          google.colab.kernel.accessAllowed ? 'block' : 'none';\n",
              "\n",
              "        async function convertToInteractive(key) {\n",
              "          const element = document.querySelector('#df-daf6a41d-2a24-46df-ae0a-74e0412841b4');\n",
              "          const dataTable =\n",
              "            await google.colab.kernel.invokeFunction('convertToInteractive',\n",
              "                                                     [key], {});\n",
              "          if (!dataTable) return;\n",
              "\n",
              "          const docLinkHtml = 'Like what you see? Visit the ' +\n",
              "            '<a target=\"_blank\" href=https://colab.research.google.com/notebooks/data_table.ipynb>data table notebook</a>'\n",
              "            + ' to learn more about interactive tables.';\n",
              "          element.innerHTML = '';\n",
              "          dataTable['output_type'] = 'display_data';\n",
              "          await google.colab.output.renderOutput(dataTable, element);\n",
              "          const docLink = document.createElement('div');\n",
              "          docLink.innerHTML = docLinkHtml;\n",
              "          element.appendChild(docLink);\n",
              "        }\n",
              "      </script>\n",
              "    </div>\n",
              "  </div>\n",
              "  "
            ],
            "text/plain": [
              "     0   1      2  3  4       5       6   ...  18  19  20    21  22  23      24\n",
              "396  55  80  1.020  0  0  normal  normal  ...  no  no  no  good  no  no  notckd\n",
              "397  42  70  1.025  0  0  normal  normal  ...  no  no  no  good  no  no  notckd\n",
              "398  12  80  1.020  0  0  normal  normal  ...  no  no  no  good  no  no  notckd\n",
              "399  17  60  1.025  0  0  normal  normal  ...  no  no  no  good  no  no  notckd\n",
              "400  58  80  1.025  0  0  normal  normal  ...  no  no  no  good  no  no  notckd\n",
              "\n",
              "[5 rows x 25 columns]"
            ]
          },
          "metadata": {}
        }
      ],
      "source": [
        "##---------Type the code below this line------------------##\n",
        "print(\"Top 5\")\n",
        "display(raw_DF.head())\n",
        "print(\"Bottom 5\")\n",
        "display(raw_DF.tail())"
      ]
    },
    {
      "cell_type": "markdown",
      "id": "bb84fc56",
      "metadata": {
        "id": "bb84fc56"
      },
      "source": [
        "## 2.4 Display the column headings, statistical information, description and statistical summary of the data."
      ]
    },
    {
      "cell_type": "code",
      "execution_count": 25,
      "id": "086ad28e",
      "metadata": {
        "colab": {
          "base_uri": "https://localhost:8080/",
          "height": 838
        },
        "id": "086ad28e",
        "outputId": "53b971c7-7fab-4e79-cad0-2e74f4a783a3"
      },
      "outputs": [
        {
          "output_type": "stream",
          "name": "stdout",
          "text": [
            "['age' 'bp' 'sg' 'al' 'su' 'rbc' 'pc' 'pcc' 'ba' 'bgr' 'bu' 'sc' 'sod'\n",
            " 'pot' 'hemo' 'pcv' 'wbcc' 'rbcc' 'htn' 'dm' 'cad' 'appet' 'pe' 'ane'\n",
            " 'class']\n"
          ]
        },
        {
          "output_type": "display_data",
          "data": {
            "text/html": [
              "\n",
              "  <div id=\"df-d9b8e080-b1f0-442e-83e5-1e61fe2b9802\">\n",
              "    <div class=\"colab-df-container\">\n",
              "      <div>\n",
              "<style scoped>\n",
              "    .dataframe tbody tr th:only-of-type {\n",
              "        vertical-align: middle;\n",
              "    }\n",
              "\n",
              "    .dataframe tbody tr th {\n",
              "        vertical-align: top;\n",
              "    }\n",
              "\n",
              "    .dataframe thead th {\n",
              "        text-align: right;\n",
              "    }\n",
              "</style>\n",
              "<table border=\"1\" class=\"dataframe\">\n",
              "  <thead>\n",
              "    <tr style=\"text-align: right;\">\n",
              "      <th></th>\n",
              "      <th>age</th>\n",
              "      <th>bp</th>\n",
              "      <th>sg</th>\n",
              "      <th>al</th>\n",
              "      <th>su</th>\n",
              "      <th>bgr</th>\n",
              "      <th>bu</th>\n",
              "      <th>sc</th>\n",
              "      <th>sod</th>\n",
              "      <th>pot</th>\n",
              "      <th>hemo</th>\n",
              "      <th>pcv</th>\n",
              "      <th>wbcc</th>\n",
              "      <th>rbcc</th>\n",
              "    </tr>\n",
              "  </thead>\n",
              "  <tbody>\n",
              "    <tr>\n",
              "      <th>count</th>\n",
              "      <td>391.000000</td>\n",
              "      <td>388.000000</td>\n",
              "      <td>353.000000</td>\n",
              "      <td>354.000000</td>\n",
              "      <td>351.000000</td>\n",
              "      <td>356.000000</td>\n",
              "      <td>381.000000</td>\n",
              "      <td>383.000000</td>\n",
              "      <td>313.000000</td>\n",
              "      <td>312.000000</td>\n",
              "      <td>348.000000</td>\n",
              "      <td>329.000000</td>\n",
              "      <td>294.000000</td>\n",
              "      <td>269.000000</td>\n",
              "    </tr>\n",
              "    <tr>\n",
              "      <th>mean</th>\n",
              "      <td>51.483376</td>\n",
              "      <td>76.469072</td>\n",
              "      <td>1.017408</td>\n",
              "      <td>1.016949</td>\n",
              "      <td>0.450142</td>\n",
              "      <td>148.036517</td>\n",
              "      <td>57.425722</td>\n",
              "      <td>3.072454</td>\n",
              "      <td>137.528754</td>\n",
              "      <td>4.627244</td>\n",
              "      <td>12.526437</td>\n",
              "      <td>38.884498</td>\n",
              "      <td>8406.122449</td>\n",
              "      <td>4.707435</td>\n",
              "    </tr>\n",
              "    <tr>\n",
              "      <th>std</th>\n",
              "      <td>17.169714</td>\n",
              "      <td>13.683637</td>\n",
              "      <td>0.005717</td>\n",
              "      <td>1.352679</td>\n",
              "      <td>1.099191</td>\n",
              "      <td>79.281714</td>\n",
              "      <td>50.503006</td>\n",
              "      <td>5.741126</td>\n",
              "      <td>10.408752</td>\n",
              "      <td>3.193904</td>\n",
              "      <td>2.912587</td>\n",
              "      <td>8.990105</td>\n",
              "      <td>2944.474190</td>\n",
              "      <td>1.025323</td>\n",
              "    </tr>\n",
              "    <tr>\n",
              "      <th>min</th>\n",
              "      <td>2.000000</td>\n",
              "      <td>50.000000</td>\n",
              "      <td>1.005000</td>\n",
              "      <td>0.000000</td>\n",
              "      <td>0.000000</td>\n",
              "      <td>22.000000</td>\n",
              "      <td>1.500000</td>\n",
              "      <td>0.400000</td>\n",
              "      <td>4.500000</td>\n",
              "      <td>2.500000</td>\n",
              "      <td>3.100000</td>\n",
              "      <td>9.000000</td>\n",
              "      <td>2200.000000</td>\n",
              "      <td>2.100000</td>\n",
              "    </tr>\n",
              "    <tr>\n",
              "      <th>25%</th>\n",
              "      <td>42.000000</td>\n",
              "      <td>70.000000</td>\n",
              "      <td>1.010000</td>\n",
              "      <td>0.000000</td>\n",
              "      <td>0.000000</td>\n",
              "      <td>99.000000</td>\n",
              "      <td>27.000000</td>\n",
              "      <td>0.900000</td>\n",
              "      <td>135.000000</td>\n",
              "      <td>3.800000</td>\n",
              "      <td>10.300000</td>\n",
              "      <td>32.000000</td>\n",
              "      <td>6500.000000</td>\n",
              "      <td>3.900000</td>\n",
              "    </tr>\n",
              "    <tr>\n",
              "      <th>50%</th>\n",
              "      <td>55.000000</td>\n",
              "      <td>80.000000</td>\n",
              "      <td>1.020000</td>\n",
              "      <td>0.000000</td>\n",
              "      <td>0.000000</td>\n",
              "      <td>121.000000</td>\n",
              "      <td>42.000000</td>\n",
              "      <td>1.300000</td>\n",
              "      <td>138.000000</td>\n",
              "      <td>4.400000</td>\n",
              "      <td>12.650000</td>\n",
              "      <td>40.000000</td>\n",
              "      <td>8000.000000</td>\n",
              "      <td>4.800000</td>\n",
              "    </tr>\n",
              "    <tr>\n",
              "      <th>75%</th>\n",
              "      <td>64.500000</td>\n",
              "      <td>80.000000</td>\n",
              "      <td>1.020000</td>\n",
              "      <td>2.000000</td>\n",
              "      <td>0.000000</td>\n",
              "      <td>163.000000</td>\n",
              "      <td>66.000000</td>\n",
              "      <td>2.800000</td>\n",
              "      <td>142.000000</td>\n",
              "      <td>4.900000</td>\n",
              "      <td>15.000000</td>\n",
              "      <td>45.000000</td>\n",
              "      <td>9800.000000</td>\n",
              "      <td>5.400000</td>\n",
              "    </tr>\n",
              "    <tr>\n",
              "      <th>max</th>\n",
              "      <td>90.000000</td>\n",
              "      <td>180.000000</td>\n",
              "      <td>1.025000</td>\n",
              "      <td>5.000000</td>\n",
              "      <td>5.000000</td>\n",
              "      <td>490.000000</td>\n",
              "      <td>391.000000</td>\n",
              "      <td>76.000000</td>\n",
              "      <td>163.000000</td>\n",
              "      <td>47.000000</td>\n",
              "      <td>17.800000</td>\n",
              "      <td>54.000000</td>\n",
              "      <td>26400.000000</td>\n",
              "      <td>8.000000</td>\n",
              "    </tr>\n",
              "  </tbody>\n",
              "</table>\n",
              "</div>\n",
              "      <button class=\"colab-df-convert\" onclick=\"convertToInteractive('df-d9b8e080-b1f0-442e-83e5-1e61fe2b9802')\"\n",
              "              title=\"Convert this dataframe to an interactive table.\"\n",
              "              style=\"display:none;\">\n",
              "        \n",
              "  <svg xmlns=\"http://www.w3.org/2000/svg\" height=\"24px\"viewBox=\"0 0 24 24\"\n",
              "       width=\"24px\">\n",
              "    <path d=\"M0 0h24v24H0V0z\" fill=\"none\"/>\n",
              "    <path d=\"M18.56 5.44l.94 2.06.94-2.06 2.06-.94-2.06-.94-.94-2.06-.94 2.06-2.06.94zm-11 1L8.5 8.5l.94-2.06 2.06-.94-2.06-.94L8.5 2.5l-.94 2.06-2.06.94zm10 10l.94 2.06.94-2.06 2.06-.94-2.06-.94-.94-2.06-.94 2.06-2.06.94z\"/><path d=\"M17.41 7.96l-1.37-1.37c-.4-.4-.92-.59-1.43-.59-.52 0-1.04.2-1.43.59L10.3 9.45l-7.72 7.72c-.78.78-.78 2.05 0 2.83L4 21.41c.39.39.9.59 1.41.59.51 0 1.02-.2 1.41-.59l7.78-7.78 2.81-2.81c.8-.78.8-2.07 0-2.86zM5.41 20L4 18.59l7.72-7.72 1.47 1.35L5.41 20z\"/>\n",
              "  </svg>\n",
              "      </button>\n",
              "      \n",
              "  <style>\n",
              "    .colab-df-container {\n",
              "      display:flex;\n",
              "      flex-wrap:wrap;\n",
              "      gap: 12px;\n",
              "    }\n",
              "\n",
              "    .colab-df-convert {\n",
              "      background-color: #E8F0FE;\n",
              "      border: none;\n",
              "      border-radius: 50%;\n",
              "      cursor: pointer;\n",
              "      display: none;\n",
              "      fill: #1967D2;\n",
              "      height: 32px;\n",
              "      padding: 0 0 0 0;\n",
              "      width: 32px;\n",
              "    }\n",
              "\n",
              "    .colab-df-convert:hover {\n",
              "      background-color: #E2EBFA;\n",
              "      box-shadow: 0px 1px 2px rgba(60, 64, 67, 0.3), 0px 1px 3px 1px rgba(60, 64, 67, 0.15);\n",
              "      fill: #174EA6;\n",
              "    }\n",
              "\n",
              "    [theme=dark] .colab-df-convert {\n",
              "      background-color: #3B4455;\n",
              "      fill: #D2E3FC;\n",
              "    }\n",
              "\n",
              "    [theme=dark] .colab-df-convert:hover {\n",
              "      background-color: #434B5C;\n",
              "      box-shadow: 0px 1px 3px 1px rgba(0, 0, 0, 0.15);\n",
              "      filter: drop-shadow(0px 1px 2px rgba(0, 0, 0, 0.3));\n",
              "      fill: #FFFFFF;\n",
              "    }\n",
              "  </style>\n",
              "\n",
              "      <script>\n",
              "        const buttonEl =\n",
              "          document.querySelector('#df-d9b8e080-b1f0-442e-83e5-1e61fe2b9802 button.colab-df-convert');\n",
              "        buttonEl.style.display =\n",
              "          google.colab.kernel.accessAllowed ? 'block' : 'none';\n",
              "\n",
              "        async function convertToInteractive(key) {\n",
              "          const element = document.querySelector('#df-d9b8e080-b1f0-442e-83e5-1e61fe2b9802');\n",
              "          const dataTable =\n",
              "            await google.colab.kernel.invokeFunction('convertToInteractive',\n",
              "                                                     [key], {});\n",
              "          if (!dataTable) return;\n",
              "\n",
              "          const docLinkHtml = 'Like what you see? Visit the ' +\n",
              "            '<a target=\"_blank\" href=https://colab.research.google.com/notebooks/data_table.ipynb>data table notebook</a>'\n",
              "            + ' to learn more about interactive tables.';\n",
              "          element.innerHTML = '';\n",
              "          dataTable['output_type'] = 'display_data';\n",
              "          await google.colab.output.renderOutput(dataTable, element);\n",
              "          const docLink = document.createElement('div');\n",
              "          docLink.innerHTML = docLinkHtml;\n",
              "          element.appendChild(docLink);\n",
              "        }\n",
              "      </script>\n",
              "    </div>\n",
              "  </div>\n",
              "  "
            ],
            "text/plain": [
              "              age          bp          sg  ...         pcv          wbcc        rbcc\n",
              "count  391.000000  388.000000  353.000000  ...  329.000000    294.000000  269.000000\n",
              "mean    51.483376   76.469072    1.017408  ...   38.884498   8406.122449    4.707435\n",
              "std     17.169714   13.683637    0.005717  ...    8.990105   2944.474190    1.025323\n",
              "min      2.000000   50.000000    1.005000  ...    9.000000   2200.000000    2.100000\n",
              "25%     42.000000   70.000000    1.010000  ...   32.000000   6500.000000    3.900000\n",
              "50%     55.000000   80.000000    1.020000  ...   40.000000   8000.000000    4.800000\n",
              "75%     64.500000   80.000000    1.020000  ...   45.000000   9800.000000    5.400000\n",
              "max     90.000000  180.000000    1.025000  ...   54.000000  26400.000000    8.000000\n",
              "\n",
              "[8 rows x 14 columns]"
            ]
          },
          "metadata": {}
        },
        {
          "output_type": "display_data",
          "data": {
            "text/plain": [
              "age      float64\n",
              "bp       float64\n",
              "sg       float64\n",
              "al       float64\n",
              "su       float64\n",
              "rbc       object\n",
              "pc        object\n",
              "pcc       object\n",
              "ba        object\n",
              "bgr      float64\n",
              "bu       float64\n",
              "sc       float64\n",
              "sod      float64\n",
              "pot      float64\n",
              "hemo     float64\n",
              "pcv      float64\n",
              "wbcc     float64\n",
              "rbcc     float64\n",
              "htn       object\n",
              "dm        object\n",
              "cad       object\n",
              "appet     object\n",
              "pe        object\n",
              "ane       object\n",
              "class     object\n",
              "dtype: object"
            ]
          },
          "metadata": {}
        },
        {
          "output_type": "stream",
          "name": "stdout",
          "text": [
            "\n",
            "Shape of DataFrame(400, 25)\n"
          ]
        }
      ],
      "source": [
        "##---------Type the code below this line------------------##\n",
        "DF_columns = raw_DF.columns.values\n",
        "print(DF_columns)\n",
        "display(raw_DF.describe(percentiles=None))\n",
        "display(raw_DF.dtypes)\n",
        "print(\"\\nShape of DataFrame\" + str(raw_DF.shape))"
      ]
    },
    {
      "cell_type": "markdown",
      "id": "812edb18",
      "metadata": {
        "id": "812edb18"
      },
      "source": [
        "## 2.5 Write your observations from the above. \n",
        "1. Size of the dataset\n",
        "\n",
        "Ans: As displayed in above code snippet, Size of dataset is 400 rows and 25 columns including the target variable\n",
        "2. What type of data attributes are there?\n",
        "\n",
        "Ans: We have Nominal, Numerical and Binary attributes in the above dataset\n",
        "\n",
        "3. Is there any null data that has to be cleaned?\n",
        "\n",
        "Ans: Null data is present and while building the data, we have replaced Null data with '?'\n"
      ]
    },
    {
      "cell_type": "raw",
      "id": "60d80d2f",
      "metadata": {
        "id": "60d80d2f"
      },
      "source": [
        "--------------Type the answers below this line--------------"
      ]
    },
    {
      "cell_type": "markdown",
      "id": "102e0e36",
      "metadata": {
        "id": "102e0e36"
      },
      "source": [
        "# 3. Data Preparation"
      ]
    },
    {
      "cell_type": "markdown",
      "id": "2bcb953b",
      "metadata": {
        "id": "2bcb953b"
      },
      "source": [
        "## 3.1 Display how many unique values are present in each attribute\n"
      ]
    },
    {
      "cell_type": "code",
      "execution_count": 26,
      "id": "5a5b960e",
      "metadata": {
        "colab": {
          "base_uri": "https://localhost:8080/"
        },
        "id": "5a5b960e",
        "outputId": "e7c47129-1b4b-43c1-a8f6-3f768d91f899"
      },
      "outputs": [
        {
          "output_type": "stream",
          "name": "stdout",
          "text": [
            "Number of Unique values for attribute age =  77\n",
            "Number of Unique values for attribute bp =  11\n",
            "Number of Unique values for attribute sg =  6\n",
            "Number of Unique values for attribute al =  7\n",
            "Number of Unique values for attribute su =  7\n",
            "Number of Unique values for attribute rbc =  3\n",
            "Number of Unique values for attribute pc =  3\n",
            "Number of Unique values for attribute pcc =  3\n",
            "Number of Unique values for attribute ba =  3\n",
            "Number of Unique values for attribute bgr =  147\n",
            "Number of Unique values for attribute bu =  119\n",
            "Number of Unique values for attribute sc =  85\n",
            "Number of Unique values for attribute sod =  35\n",
            "Number of Unique values for attribute pot =  41\n",
            "Number of Unique values for attribute hemo =  116\n",
            "Number of Unique values for attribute pcv =  43\n",
            "Number of Unique values for attribute wbcc =  90\n",
            "Number of Unique values for attribute rbcc =  46\n",
            "Number of Unique values for attribute htn =  3\n",
            "Number of Unique values for attribute dm =  3\n",
            "Number of Unique values for attribute cad =  3\n",
            "Number of Unique values for attribute appet =  3\n",
            "Number of Unique values for attribute pe =  3\n",
            "Number of Unique values for attribute ane =  3\n",
            "Number of Unique values for attribute class =  2\n"
          ]
        }
      ],
      "source": [
        "##---------Type the code below this line------------------##\n",
        "for i in DF_columns:\n",
        "    print(\"Number of Unique values for attribute \" + i + \" = \" , raw_DF[i].unique().shape[0])"
      ]
    },
    {
      "cell_type": "markdown",
      "id": "06fdebf8",
      "metadata": {
        "id": "06fdebf8"
      },
      "source": [
        "## 3.2 Check for the presence of duplicate data, identify the attributes with duplicate data, report the attributes. Mention the method adopted to remove duplicate data if present. Report the results again."
      ]
    },
    {
      "cell_type": "code",
      "execution_count": 27,
      "id": "c86d5b0b",
      "metadata": {
        "colab": {
          "base_uri": "https://localhost:8080/"
        },
        "id": "c86d5b0b",
        "outputId": "49da67e8-a917-419c-9d40-084111e60109"
      },
      "outputs": [
        {
          "output_type": "stream",
          "name": "stdout",
          "text": [
            "Number of duplicates = 0\n",
            "DataFrame shape before dropping duplicates (400, 25)\n",
            "DataFrame shape after dropping duplicates (400, 25)\n"
          ]
        }
      ],
      "source": [
        "##---------Type the code below this line------------------##\n",
        "print(\"Number of duplicates =\", raw_DF.duplicated().sum())\n",
        "display()\n",
        "print(\"DataFrame shape before dropping duplicates\", raw_DF.shape)\n",
        "raw_DF.drop_duplicates(subset=None, keep='first', inplace=True)\n",
        "print(\"DataFrame shape after dropping duplicates\", raw_DF.shape)"
      ]
    },
    {
      "cell_type": "markdown",
      "id": "e3cec4fc",
      "metadata": {
        "id": "e3cec4fc"
      },
      "source": [
        "## 3.3 Show whether there are any missing values in each attribute. Report the same.\n"
      ]
    },
    {
      "cell_type": "code",
      "execution_count": 28,
      "id": "747250db",
      "metadata": {
        "colab": {
          "base_uri": "https://localhost:8080/"
        },
        "id": "747250db",
        "outputId": "ba1d4ed6-6dc1-427b-dec0-8b5617ccc3c4"
      },
      "outputs": [
        {
          "output_type": "stream",
          "name": "stdout",
          "text": [
            "Number of missing values for attribute age = 9\n",
            "Number of missing values for attribute bp = 12\n",
            "Number of missing values for attribute sg = 47\n",
            "Number of missing values for attribute al = 46\n",
            "Number of missing values for attribute su = 49\n",
            "Number of missing values for attribute rbc = 152\n",
            "Number of missing values for attribute pc = 65\n",
            "Number of missing values for attribute pcc = 4\n",
            "Number of missing values for attribute ba = 4\n",
            "Number of missing values for attribute bgr = 44\n",
            "Number of missing values for attribute bu = 19\n",
            "Number of missing values for attribute sc = 17\n",
            "Number of missing values for attribute sod = 87\n",
            "Number of missing values for attribute pot = 88\n",
            "Number of missing values for attribute hemo = 52\n",
            "Number of missing values for attribute pcv = 71\n",
            "Number of missing values for attribute wbcc = 106\n",
            "Number of missing values for attribute rbcc = 131\n",
            "Number of missing values for attribute htn = 2\n",
            "Number of missing values for attribute dm = 2\n",
            "Number of missing values for attribute cad = 2\n",
            "Number of missing values for attribute appet = 1\n",
            "Number of missing values for attribute pe = 1\n",
            "Number of missing values for attribute ane = 1\n",
            "Number of missing values for attribute class = 0\n"
          ]
        }
      ],
      "source": [
        "##---------Type the code below this line------------------##\n",
        "missing_DF = raw_DF.isnull()\n",
        "for attr in missing_DF.columns:\n",
        "    print(\"Number of missing values for attribute \" + attr +\" =\", missing_DF[attr].sum())"
      ]
    },
    {
      "cell_type": "markdown",
      "id": "e7b4a34f",
      "metadata": {
        "id": "e7b4a34f"
      },
      "source": [
        "## 3.4 Clean the missing data using any imputation technique, mention the method used and again report the change after cleaning the data."
      ]
    },
    {
      "cell_type": "code",
      "execution_count": 29,
      "id": "ee55faf4",
      "metadata": {
        "colab": {
          "base_uri": "https://localhost:8080/"
        },
        "id": "ee55faf4",
        "outputId": "6f8e338c-78d8-4ea4-8b32-66598c426e08"
      },
      "outputs": [
        {
          "output_type": "stream",
          "name": "stdout",
          "text": [
            "Number of missing values After cleaning the data for attribute age = 0\n",
            "Number of missing values After cleaning the data for attribute bp = 0\n",
            "Number of missing values After cleaning the data for attribute sg = 0\n",
            "Number of missing values After cleaning the data for attribute al = 0\n",
            "Number of missing values After cleaning the data for attribute su = 0\n",
            "Number of missing values After cleaning the data for attribute rbc = 0\n",
            "Number of missing values After cleaning the data for attribute pc = 0\n",
            "Number of missing values After cleaning the data for attribute pcc = 0\n",
            "Number of missing values After cleaning the data for attribute ba = 0\n",
            "Number of missing values After cleaning the data for attribute bgr = 0\n",
            "Number of missing values After cleaning the data for attribute bu = 0\n",
            "Number of missing values After cleaning the data for attribute sc = 0\n",
            "Number of missing values After cleaning the data for attribute sod = 0\n",
            "Number of missing values After cleaning the data for attribute pot = 0\n",
            "Number of missing values After cleaning the data for attribute hemo = 0\n",
            "Number of missing values After cleaning the data for attribute pcv = 0\n",
            "Number of missing values After cleaning the data for attribute wbcc = 0\n",
            "Number of missing values After cleaning the data for attribute rbcc = 0\n",
            "Number of missing values After cleaning the data for attribute htn = 0\n",
            "Number of missing values After cleaning the data for attribute dm = 0\n",
            "Number of missing values After cleaning the data for attribute cad = 0\n",
            "Number of missing values After cleaning the data for attribute appet = 0\n",
            "Number of missing values After cleaning the data for attribute pe = 0\n",
            "Number of missing values After cleaning the data for attribute ane = 0\n",
            "Number of missing values After cleaning the data for attribute class = 0\n"
          ]
        }
      ],
      "source": [
        "##---------Type the code below this line------------------##\n",
        "numerical_columns = ['age','bp','sg','al','su','bgr','bu','sc','sod','pot','hemo','pcv','wbcc','rbcc']\n",
        "nominal_columns = ['rbc','pc','pcc','ba','htn','dm','cad','appet','pe','ane','class']\n",
        "imputer_nominal = SimpleImputer(strategy=\"most_frequent\")\n",
        "imputer_numeric = SimpleImputer(strategy='mean')\n",
        "raw_DF[nominal_columns] = imputer_nominal.fit_transform(raw_DF[nominal_columns])\n",
        "raw_DF[numerical_columns] = imputer_numeric.fit_transform(raw_DF[numerical_columns])\n",
        "\n",
        "missing_DF = raw_DF.isnull()\n",
        "for attr in missing_DF.columns:\n",
        "    print(\"Number of missing values After cleaning the data for attribute \" + attr +\" =\", missing_DF[attr].sum())\n",
        "\n"
      ]
    },
    {
      "cell_type": "markdown",
      "id": "33700253",
      "metadata": {
        "id": "33700253"
      },
      "source": [
        "## 3.5 Check if all the attributes are following the same format and are consistent. If not, report all such attributes and what inconsistencies are present."
      ]
    },
    {
      "cell_type": "code",
      "execution_count": 30,
      "id": "e9124fcc",
      "metadata": {
        "colab": {
          "base_uri": "https://localhost:8080/"
        },
        "id": "e9124fcc",
        "outputId": "9647cd99-8c33-4e60-888a-a69299337357"
      },
      "outputs": [
        {
          "output_type": "stream",
          "name": "stdout",
          "text": [
            "No inconsistencies found!\n"
          ]
        }
      ],
      "source": [
        "##---------Type the code below this line------------------##\n",
        "# Firstly, changing values of nominal attributes to 0 and 1 for consistency\n",
        "raw_DF['rbc'].replace({'normal': 0, 'abnormal': 1}, inplace=True)\n",
        "raw_DF['pc'].replace({'normal': 0, 'abnormal': 1}, inplace=True)\n",
        "raw_DF['pcc'].replace({'notpresent': 0, 'present': 1}, inplace=True)\n",
        "raw_DF['ba'].replace({'notpresent': 0, 'present': 1}, inplace=True)\n",
        "raw_DF['htn'].replace({'no': 0, 'yes': 1}, inplace=True)\n",
        "raw_DF['dm'].replace({'no': 0, '\\tno':0, '\\tyes':1, ' yes':1, 'yes': 1}, inplace=True)\n",
        "raw_DF['cad'].replace({'\\tno':0, 'no': 0, 'yes': 1}, inplace=True)\n",
        "raw_DF['appet'].replace({'poor': 0, 'good': 1}, inplace=True)\n",
        "raw_DF['pe'].replace({'no': 0, 'yes': 1}, inplace=True)\n",
        "raw_DF['ane'].replace({'no': 0, 'yes': 1}, inplace=True)\n",
        "raw_DF['class'].replace({'notckd': 0, 'ckd': 1}, inplace=True)\n",
        "\n",
        "inconsistent_Attr = []\n",
        "for attr in numerical_columns:\n",
        "    if(raw_DF[attr].apply(type).eq(float).all() != True):\n",
        "        inconsistent_Attr.append(attr)\n",
        "for attr in nominal_columns:\n",
        "    if(raw_DF[attr].apply(type).eq(int).all() != True):\n",
        "        inconsistent_Attr.append(attr)\n",
        "flag=0\n",
        "if (len(inconsistent_Attr) == 0):\n",
        "    print(\"No inconsistencies found!\")\n",
        "    flag=1\n",
        "else:\n",
        "    print(\"Inconsistencies found in \" + str(inconsistent_Attr))"
      ]
    },
    {
      "cell_type": "markdown",
      "id": "3c936608",
      "metadata": {
        "id": "3c936608"
      },
      "source": [
        "## 3.6 Correct the data if there are inconsistencies from 3.5. Report or print the data after correction."
      ]
    },
    {
      "cell_type": "code",
      "execution_count": 31,
      "id": "1c047e47",
      "metadata": {
        "colab": {
          "base_uri": "https://localhost:8080/"
        },
        "id": "1c047e47",
        "outputId": "9c2292c0-e4b8-404b-d782-f83559537e4a"
      },
      "outputs": [
        {
          "output_type": "stream",
          "name": "stdout",
          "text": [
            "No inconsistencies found so no need to correct the data\n"
          ]
        }
      ],
      "source": [
        "##---------Type the code below this line------------------##\n",
        "if (flag==1):\n",
        "    print(\"No inconsistencies found so no need to correct the data\")"
      ]
    },
    {
      "cell_type": "markdown",
      "id": "793cd04b",
      "metadata": {
        "id": "793cd04b"
      },
      "source": [
        "## 3.7 Identify the target variables.\n"
      ]
    },
    {
      "cell_type": "code",
      "execution_count": 32,
      "id": "c9089b57",
      "metadata": {
        "colab": {
          "base_uri": "https://localhost:8080/"
        },
        "id": "c9089b57",
        "outputId": "8d8acf0e-a180-4b8f-fe8d-d52ec6025291"
      },
      "outputs": [
        {
          "output_type": "stream",
          "name": "stdout",
          "text": [
            "target variable identified is 'class'\n"
          ]
        }
      ],
      "source": [
        "##---------Type the code below this line------------------##\n",
        "print(\"target variable identified is 'class'\")"
      ]
    },
    {
      "cell_type": "markdown",
      "id": "2d1ecddb",
      "metadata": {
        "id": "2d1ecddb"
      },
      "source": [
        "## 3.8 Separate the data front the target such that the dataset is in the form of (X,y) or (Features, Label)\n"
      ]
    },
    {
      "cell_type": "code",
      "execution_count": 33,
      "id": "2258a7c9",
      "metadata": {
        "id": "2258a7c9"
      },
      "outputs": [],
      "source": [
        "##---------Type the code below this line------------------##\n",
        "y = raw_DF['class']\n",
        "X = raw_DF.drop(['class'], axis = 1)"
      ]
    },
    {
      "cell_type": "markdown",
      "id": "280c1f13",
      "metadata": {
        "id": "280c1f13"
      },
      "source": [
        "## 3.9 Discretize the target variable or perform one-hot encoding on the target or any other as and if required.\n"
      ]
    },
    {
      "cell_type": "code",
      "execution_count": 34,
      "id": "9a043cd5",
      "metadata": {
        "id": "9a043cd5"
      },
      "outputs": [],
      "source": [
        "##---------Type the code below this line------------------##\n",
        "#Discretization for independent attributes applied in section 3.5 itself. Discretization of target variable shown below\n",
        "raw_DF['class'].replace({'notckd': 0, 'ckd': 1}, inplace=True)\n",
        "y = raw_DF['class']"
      ]
    },
    {
      "cell_type": "markdown",
      "id": "3ae0b5d2",
      "metadata": {
        "id": "3ae0b5d2"
      },
      "source": [
        "# 4. Data Exploration using various plots"
      ]
    },
    {
      "cell_type": "markdown",
      "id": "186bf4d7",
      "metadata": {
        "id": "186bf4d7"
      },
      "source": [
        "## 4.1 Scatter plot of each attribute with the target."
      ]
    },
    {
      "cell_type": "code",
      "execution_count": 35,
      "id": "868d7b27",
      "metadata": {
        "colab": {
          "base_uri": "https://localhost:8080/",
          "height": 53
        },
        "id": "868d7b27",
        "outputId": "08d12457-2cce-4ea1-e4b7-40cf2ef38563"
      },
      "outputs": [
        {
          "output_type": "execute_result",
          "data": {
            "application/vnd.google.colaboratory.intrinsic+json": {
              "type": "string"
            },
            "text/plain": [
              "'\\nfig, ax = plt.subplots(24, figsize=(10, 150))\\nfor i, attr in enumerate(X.columns):\\n    ax[i].scatter(x = raw_DF[attr], y = raw_DF[\\'class\\'])\\n    ax[i].set_xlabel(attr)\\n    ax[i].set_ylabel(\"Class\")\\n    ax[i].set_title(\" \" + attr + \" vs Class \")\\n'"
            ]
          },
          "metadata": {},
          "execution_count": 35
        }
      ],
      "source": [
        "##---------Type the code below this line------------------##\n",
        "\"\"\"\n",
        "fig, ax = plt.subplots(24, figsize=(10, 150))\n",
        "for i, attr in enumerate(X.columns):\n",
        "    ax[i].scatter(x = raw_DF[attr], y = raw_DF['class'])\n",
        "    ax[i].set_xlabel(attr)\n",
        "    ax[i].set_ylabel(\"Class\")\n",
        "    ax[i].set_title(\" \" + attr + \" vs Class \")\n",
        "\"\"\"\n"
      ]
    },
    {
      "cell_type": "markdown",
      "id": "57150fdd",
      "metadata": {
        "id": "57150fdd"
      },
      "source": [
        "## 4.2 Pair plot of each attribute to identify the linear relationships among the attributes.\n"
      ]
    },
    {
      "cell_type": "code",
      "execution_count": 36,
      "id": "dd3118eb",
      "metadata": {
        "colab": {
          "base_uri": "https://localhost:8080/",
          "height": 35
        },
        "id": "dd3118eb",
        "outputId": "e01fcee0-c4b3-4bda-8dc5-40fbd306b6f2"
      },
      "outputs": [
        {
          "output_type": "execute_result",
          "data": {
            "application/vnd.google.colaboratory.intrinsic+json": {
              "type": "string"
            },
            "text/plain": [
              "'\\nsns.pairplot(raw_DF)\\n'"
            ]
          },
          "metadata": {},
          "execution_count": 36
        }
      ],
      "source": [
        "##---------Type the code below this line------------------##\n",
        "\"\"\"\n",
        "sns.pairplot(raw_DF)\n",
        "\"\"\""
      ]
    },
    {
      "cell_type": "markdown",
      "id": "2b908288",
      "metadata": {
        "id": "2b908288"
      },
      "source": [
        "## 4.3 Regression plots to identify the linear relationship between each attribute with the target variable. \n"
      ]
    },
    {
      "cell_type": "code",
      "execution_count": 37,
      "id": "fe3ec5ed",
      "metadata": {
        "id": "fe3ec5ed",
        "colab": {
          "base_uri": "https://localhost:8080/",
          "height": 35
        },
        "outputId": "3cd49098-c3b0-451e-f7b7-1bb5ae6964f5"
      },
      "outputs": [
        {
          "output_type": "execute_result",
          "data": {
            "application/vnd.google.colaboratory.intrinsic+json": {
              "type": "string"
            },
            "text/plain": [
              "\"\\nfor attr in X.columns:\\n    sns.lmplot(x=attr,y='class',data=raw_DF,fit_reg=True) \\n\""
            ]
          },
          "metadata": {},
          "execution_count": 37
        }
      ],
      "source": [
        "##---------Type the code below this line------------------##\n",
        "\"\"\"\n",
        "for attr in X.columns:\n",
        "    sns.lmplot(x=attr,y='class',data=raw_DF,fit_reg=True) \n",
        "\"\"\"    "
      ]
    },
    {
      "cell_type": "markdown",
      "id": "575f9e37",
      "metadata": {
        "id": "575f9e37"
      },
      "source": [
        "## 4.4 Can any other plot help to identify the optimal set of attributes that can be used for classification. The plot will be based on linear or nonlinear separations. If there is/are such plots, name them, explain why you think they can be helpful in the task and perform the plot as well.\n"
      ]
    },
    {
      "cell_type": "code",
      "execution_count": 38,
      "id": "4d614311",
      "metadata": {
        "id": "4d614311"
      },
      "outputs": [],
      "source": [
        "##---------Type the code below this line------------------##"
      ]
    },
    {
      "cell_type": "markdown",
      "id": "bdbc82a1",
      "metadata": {
        "id": "bdbc82a1"
      },
      "source": [
        "# 5. Data Wrangling\n",
        "\n"
      ]
    },
    {
      "cell_type": "markdown",
      "id": "77e57102",
      "metadata": {
        "id": "77e57102"
      },
      "source": [
        "## 5.1 Display correlation heatmap of each attribute against the target and report which features are significant."
      ]
    },
    {
      "cell_type": "code",
      "execution_count": 39,
      "id": "7f20f541",
      "metadata": {
        "id": "7f20f541",
        "colab": {
          "base_uri": "https://localhost:8080/",
          "height": 647
        },
        "outputId": "3f775f1c-9d00-43e7-fdc6-ea17553c7eba"
      },
      "outputs": [
        {
          "output_type": "stream",
          "name": "stdout",
          "text": [
            "This is the the HeatMap showing correlation of attributes: \n"
          ]
        },
        {
          "output_type": "display_data",
          "data": {
            "image/png": "[encoded data removed]",
            "text/plain": [
              "<Figure size 1440x720 with 2 Axes>"
            ]
          },
          "metadata": {
            "needs_background": "light"
          }
        },
        {
          "output_type": "stream",
          "name": "stdout",
          "text": [
            "Significant list =  Index(['sg', 'al', 'hemo', 'rbcc', 'htn', 'dm'], dtype='object')\n",
            "The pcv attribute is dropped due to high cross correlation between pcv and hemo. So only one out of them has been selected\n"
          ]
        }
      ],
      "source": [
        "##---------Type the code below this line------------------##\n",
        "# Our target variable is Diagnosis\n",
        "cor = raw_DF.corr()\n",
        "print(\"This is the the HeatMap showing correlation of attributes: \")\n",
        "# Plot Correlation HeatMap\n",
        "plot_size = plt.subplots(figsize=(20,10))\n",
        "sns.heatmap(cor, annot=True, cmap=plt.cm.Reds)\n",
        "plt.show()\n",
        "\n",
        "cor_target = abs(cor[\"class\"])\n",
        "    \n",
        "# The relevant features are ones which have correlation>0.5 with final class value\n",
        "relevant_features = cor_target[cor_target>0.5]\n",
        "\n",
        "# Put the most relevant features into a list\n",
        "extracted_features = list(relevant_features.index)\n",
        "##--------------------------------------------------------------------\n",
        "# Intra attribute correlation analysis\n",
        "extracted_features_df = raw_DF[extracted_features]\n",
        "cor2 = extracted_features_df.corr()\n",
        "\n",
        "extracted_attr_list = list(extracted_features)\n",
        "attr_to_eliminate = set()\n",
        "\n",
        "# Set the intra attribute threshold value\n",
        "intra_attribute_thresh = 0.8\n",
        "\n",
        "for i in range(0, int((len(extracted_features)+1)/2)):\n",
        "    cor2_attr = abs(cor2[extracted_attr_list[i]])\n",
        "    # Attributes with more than 80% correlation should be said as matching\n",
        "    matching_attr_with_cor = cor2_attr[cor2_attr>intra_attribute_thresh]       \n",
        "    matching_attr = list(matching_attr_with_cor.index)\n",
        "    \n",
        "    # Extract the target corr of all the matching attributes\n",
        "    target_corr = relevant_features[matching_attr]\n",
        "    \n",
        "    if len(matching_attr) > 1:\n",
        "        # Eliminate the minimum attribute\n",
        "        attr_to_eliminate.add(target_corr.idxmin())\n",
        "    \n",
        "extracted_features_df = extracted_features_df.drop(attr_to_eliminate, axis=1)\n",
        "extracted_features_df_X = extracted_features_df.drop('class', axis=1)\n",
        "print(\"Significant list = \", extracted_features_df_X.columns)\n",
        "print(\"The pcv attribute is dropped due to high cross correlation between pcv and hemo. So only one out of them has been selected\")"
      ]
    },
    {
      "cell_type": "markdown",
      "id": "ca214eb3",
      "metadata": {
        "id": "ca214eb3"
      },
      "source": [
        "## 5.2 Univariate Filters – Identify top 5 significant features by evaluating each feature independently with respect to the target variable by exploring \n",
        "1. Mutual Information (Information Gain)\n",
        "2. Gini index\n",
        "3. Gain Ratio\n",
        "4. Chi-Squared test\n",
        "5. Fisher Score\n",
        "(From the above 5 you are required to use only any <b>three</b>) \n",
        "\n",
        "Write your observations from the results of each method and report the top 5 significant features for each of the above methods. Also plot a graph of significant features for each of them for better visualization."
      ]
    },
    {
      "cell_type": "code",
      "execution_count": 40,
      "id": "a85e9754",
      "metadata": {
        "id": "a85e9754",
        "colab": {
          "base_uri": "https://localhost:8080/",
          "height": 1000
        },
        "outputId": "57c8e737-12f4-4ed9-8126-6a0c6b1803b2"
      },
      "outputs": [
        {
          "output_type": "error",
          "ename": "ValueError",
          "evalue": "ignored",
          "traceback": [
            "\u001b[0;31m---------------------------------------------------------------------------\u001b[0m",
            "\u001b[0;31mValueError\u001b[0m                                Traceback (most recent call last)",
            "\u001b[0;32m<ipython-input-40-46c7b9804e0e>\u001b[0m in \u001b[0;36m<module>\u001b[0;34m()\u001b[0m\n\u001b[1;32m     10\u001b[0m     \u001b[0;32mfor\u001b[0m \u001b[0mj\u001b[0m \u001b[0;32min\u001b[0m \u001b[0mlist\u001b[0m\u001b[0;34m(\u001b[0m\u001b[0mX\u001b[0m\u001b[0;34m.\u001b[0m\u001b[0mcolumns\u001b[0m\u001b[0;34m)\u001b[0m\u001b[0;34m:\u001b[0m\u001b[0;34m\u001b[0m\u001b[0;34m\u001b[0m\u001b[0m\n\u001b[1;32m     11\u001b[0m         \u001b[0;32mif\u001b[0m \u001b[0mi\u001b[0m\u001b[0;34m!=\u001b[0m\u001b[0mj\u001b[0m\u001b[0;34m:\u001b[0m\u001b[0;34m\u001b[0m\u001b[0;34m\u001b[0m\u001b[0m\n\u001b[0;32m---> 12\u001b[0;31m             \u001b[0mchi2_val\u001b[0m\u001b[0;34m,\u001b[0m \u001b[0mp_val\u001b[0m \u001b[0;34m=\u001b[0m \u001b[0mchi2\u001b[0m\u001b[0;34m(\u001b[0m\u001b[0mnp\u001b[0m\u001b[0;34m.\u001b[0m\u001b[0marray\u001b[0m\u001b[0;34m(\u001b[0m\u001b[0mX\u001b[0m\u001b[0;34m[\u001b[0m\u001b[0mi\u001b[0m\u001b[0;34m]\u001b[0m\u001b[0;34m)\u001b[0m\u001b[0;34m.\u001b[0m\u001b[0mreshape\u001b[0m\u001b[0;34m(\u001b[0m\u001b[0;34m-\u001b[0m\u001b[0;36m1\u001b[0m\u001b[0;34m,\u001b[0m \u001b[0;36m1\u001b[0m\u001b[0;34m)\u001b[0m\u001b[0;34m,\u001b[0m \u001b[0mnp\u001b[0m\u001b[0;34m.\u001b[0m\u001b[0marray\u001b[0m\u001b[0;34m(\u001b[0m\u001b[0mX\u001b[0m\u001b[0;34m[\u001b[0m\u001b[0mj\u001b[0m\u001b[0;34m]\u001b[0m\u001b[0;34m)\u001b[0m\u001b[0;34m.\u001b[0m\u001b[0mreshape\u001b[0m\u001b[0;34m(\u001b[0m\u001b[0;34m-\u001b[0m\u001b[0;36m1\u001b[0m\u001b[0;34m,\u001b[0m \u001b[0;36m1\u001b[0m\u001b[0;34m)\u001b[0m\u001b[0;34m)\u001b[0m\u001b[0;34m\u001b[0m\u001b[0;34m\u001b[0m\u001b[0m\n\u001b[0m\u001b[1;32m     13\u001b[0m             \u001b[0mChi_Mat\u001b[0m\u001b[0;34m.\u001b[0m\u001b[0mloc\u001b[0m\u001b[0;34m[\u001b[0m\u001b[0mi\u001b[0m\u001b[0;34m,\u001b[0m\u001b[0mj\u001b[0m\u001b[0;34m]\u001b[0m \u001b[0;34m=\u001b[0m \u001b[0mchi2_val\u001b[0m\u001b[0;34m\u001b[0m\u001b[0;34m\u001b[0m\u001b[0m\n\u001b[1;32m     14\u001b[0m         \u001b[0;32melse\u001b[0m\u001b[0;34m:\u001b[0m\u001b[0;34m\u001b[0m\u001b[0;34m\u001b[0m\u001b[0m\n",
            "\u001b[0;32m/usr/local/lib/python3.7/dist-packages/sklearn/feature_selection/_univariate_selection.py\u001b[0m in \u001b[0;36mchi2\u001b[0;34m(X, y)\u001b[0m\n\u001b[1;32m    215\u001b[0m         \u001b[0;32mraise\u001b[0m \u001b[0mValueError\u001b[0m\u001b[0;34m(\u001b[0m\u001b[0;34m\"Input X must be non-negative.\"\u001b[0m\u001b[0;34m)\u001b[0m\u001b[0;34m\u001b[0m\u001b[0;34m\u001b[0m\u001b[0m\n\u001b[1;32m    216\u001b[0m \u001b[0;34m\u001b[0m\u001b[0m\n\u001b[0;32m--> 217\u001b[0;31m     \u001b[0mY\u001b[0m \u001b[0;34m=\u001b[0m \u001b[0mLabelBinarizer\u001b[0m\u001b[0;34m(\u001b[0m\u001b[0;34m)\u001b[0m\u001b[0;34m.\u001b[0m\u001b[0mfit_transform\u001b[0m\u001b[0;34m(\u001b[0m\u001b[0my\u001b[0m\u001b[0;34m)\u001b[0m\u001b[0;34m\u001b[0m\u001b[0;34m\u001b[0m\u001b[0m\n\u001b[0m\u001b[1;32m    218\u001b[0m     \u001b[0;32mif\u001b[0m \u001b[0mY\u001b[0m\u001b[0;34m.\u001b[0m\u001b[0mshape\u001b[0m\u001b[0;34m[\u001b[0m\u001b[0;36m1\u001b[0m\u001b[0;34m]\u001b[0m \u001b[0;34m==\u001b[0m \u001b[0;36m1\u001b[0m\u001b[0;34m:\u001b[0m\u001b[0;34m\u001b[0m\u001b[0;34m\u001b[0m\u001b[0m\n\u001b[1;32m    219\u001b[0m         \u001b[0mY\u001b[0m \u001b[0;34m=\u001b[0m \u001b[0mnp\u001b[0m\u001b[0;34m.\u001b[0m\u001b[0mappend\u001b[0m\u001b[0;34m(\u001b[0m\u001b[0;36m1\u001b[0m \u001b[0;34m-\u001b[0m \u001b[0mY\u001b[0m\u001b[0;34m,\u001b[0m \u001b[0mY\u001b[0m\u001b[0;34m,\u001b[0m \u001b[0maxis\u001b[0m\u001b[0;34m=\u001b[0m\u001b[0;36m1\u001b[0m\u001b[0;34m)\u001b[0m\u001b[0;34m\u001b[0m\u001b[0;34m\u001b[0m\u001b[0m\n",
            "\u001b[0;32m/usr/local/lib/python3.7/dist-packages/sklearn/preprocessing/_label.py\u001b[0m in \u001b[0;36mfit_transform\u001b[0;34m(self, y)\u001b[0m\n\u001b[1;32m    322\u001b[0m             \u001b[0mwill\u001b[0m \u001b[0mbe\u001b[0m \u001b[0mof\u001b[0m \u001b[0mCSR\u001b[0m \u001b[0mformat\u001b[0m\u001b[0;34m.\u001b[0m\u001b[0;34m\u001b[0m\u001b[0;34m\u001b[0m\u001b[0m\n\u001b[1;32m    323\u001b[0m         \"\"\"\n\u001b[0;32m--> 324\u001b[0;31m         \u001b[0;32mreturn\u001b[0m \u001b[0mself\u001b[0m\u001b[0;34m.\u001b[0m\u001b[0mfit\u001b[0m\u001b[0;34m(\u001b[0m\u001b[0my\u001b[0m\u001b[0;34m)\u001b[0m\u001b[0;34m.\u001b[0m\u001b[0mtransform\u001b[0m\u001b[0;34m(\u001b[0m\u001b[0my\u001b[0m\u001b[0;34m)\u001b[0m\u001b[0;34m\u001b[0m\u001b[0;34m\u001b[0m\u001b[0m\n\u001b[0m\u001b[1;32m    325\u001b[0m \u001b[0;34m\u001b[0m\u001b[0m\n\u001b[1;32m    326\u001b[0m     \u001b[0;32mdef\u001b[0m \u001b[0mtransform\u001b[0m\u001b[0;34m(\u001b[0m\u001b[0mself\u001b[0m\u001b[0;34m,\u001b[0m \u001b[0my\u001b[0m\u001b[0;34m)\u001b[0m\u001b[0;34m:\u001b[0m\u001b[0;34m\u001b[0m\u001b[0;34m\u001b[0m\u001b[0m\n",
            "\u001b[0;32m/usr/local/lib/python3.7/dist-packages/sklearn/preprocessing/_label.py\u001b[0m in \u001b[0;36mfit\u001b[0;34m(self, y)\u001b[0m\n\u001b[1;32m    299\u001b[0m \u001b[0;34m\u001b[0m\u001b[0m\n\u001b[1;32m    300\u001b[0m         \u001b[0mself\u001b[0m\u001b[0;34m.\u001b[0m\u001b[0msparse_input_\u001b[0m \u001b[0;34m=\u001b[0m \u001b[0msp\u001b[0m\u001b[0;34m.\u001b[0m\u001b[0missparse\u001b[0m\u001b[0;34m(\u001b[0m\u001b[0my\u001b[0m\u001b[0;34m)\u001b[0m\u001b[0;34m\u001b[0m\u001b[0;34m\u001b[0m\u001b[0m\n\u001b[0;32m--> 301\u001b[0;31m         \u001b[0mself\u001b[0m\u001b[0;34m.\u001b[0m\u001b[0mclasses_\u001b[0m \u001b[0;34m=\u001b[0m \u001b[0munique_labels\u001b[0m\u001b[0;34m(\u001b[0m\u001b[0my\u001b[0m\u001b[0;34m)\u001b[0m\u001b[0;34m\u001b[0m\u001b[0;34m\u001b[0m\u001b[0m\n\u001b[0m\u001b[1;32m    302\u001b[0m         \u001b[0;32mreturn\u001b[0m \u001b[0mself\u001b[0m\u001b[0;34m\u001b[0m\u001b[0;34m\u001b[0m\u001b[0m\n\u001b[1;32m    303\u001b[0m \u001b[0;34m\u001b[0m\u001b[0m\n",
            "\u001b[0;32m/usr/local/lib/python3.7/dist-packages/sklearn/utils/multiclass.py\u001b[0m in \u001b[0;36munique_labels\u001b[0;34m(*ys)\u001b[0m\n\u001b[1;32m     99\u001b[0m     \u001b[0m_unique_labels\u001b[0m \u001b[0;34m=\u001b[0m \u001b[0m_FN_UNIQUE_LABELS\u001b[0m\u001b[0;34m.\u001b[0m\u001b[0mget\u001b[0m\u001b[0;34m(\u001b[0m\u001b[0mlabel_type\u001b[0m\u001b[0;34m,\u001b[0m \u001b[0;32mNone\u001b[0m\u001b[0;34m)\u001b[0m\u001b[0;34m\u001b[0m\u001b[0;34m\u001b[0m\u001b[0m\n\u001b[1;32m    100\u001b[0m     \u001b[0;32mif\u001b[0m \u001b[0;32mnot\u001b[0m \u001b[0m_unique_labels\u001b[0m\u001b[0;34m:\u001b[0m\u001b[0;34m\u001b[0m\u001b[0;34m\u001b[0m\u001b[0m\n\u001b[0;32m--> 101\u001b[0;31m         \u001b[0;32mraise\u001b[0m \u001b[0mValueError\u001b[0m\u001b[0;34m(\u001b[0m\u001b[0;34m\"Unknown label type: %s\"\u001b[0m \u001b[0;34m%\u001b[0m \u001b[0mrepr\u001b[0m\u001b[0;34m(\u001b[0m\u001b[0mys\u001b[0m\u001b[0;34m)\u001b[0m\u001b[0;34m)\u001b[0m\u001b[0;34m\u001b[0m\u001b[0;34m\u001b[0m\u001b[0m\n\u001b[0m\u001b[1;32m    102\u001b[0m \u001b[0;34m\u001b[0m\u001b[0m\n\u001b[1;32m    103\u001b[0m     \u001b[0mys_labels\u001b[0m \u001b[0;34m=\u001b[0m \u001b[0mset\u001b[0m\u001b[0;34m(\u001b[0m\u001b[0mchain\u001b[0m\u001b[0;34m.\u001b[0m\u001b[0mfrom_iterable\u001b[0m\u001b[0;34m(\u001b[0m\u001b[0m_unique_labels\u001b[0m\u001b[0;34m(\u001b[0m\u001b[0my\u001b[0m\u001b[0;34m)\u001b[0m \u001b[0;32mfor\u001b[0m \u001b[0my\u001b[0m \u001b[0;32min\u001b[0m \u001b[0mys\u001b[0m\u001b[0;34m)\u001b[0m\u001b[0;34m)\u001b[0m\u001b[0;34m\u001b[0m\u001b[0;34m\u001b[0m\u001b[0m\n",
            "\u001b[0;31mValueError\u001b[0m: Unknown label type: (array([[ 80.        ],\n       [ 50.        ],\n       [ 80.        ],\n       [ 70.        ],\n       [ 80.        ],\n       [ 90.        ],\n       [ 70.        ],\n       [ 76.46907216],\n       [100.        ],\n       [ 90.        ],\n       [ 60.        ],\n       [ 70.        ],\n       [ 70.        ],\n       [ 70.        ],\n       [ 80.        ],\n       [ 80.        ],\n       [ 70.        ],\n       [ 80.        ],\n       [100.        ],\n       [ 60.        ],\n       [ 80.        ],\n       [ 90.        ],\n       [ 80.        ],\n       [ 70.        ],\n       [100.        ],\n       [ 60.        ],\n       [ 80.        ],\n       [ 70.        ],\n       [ 70.        ],\n       [ 70.        ],\n       [ 70.        ],\n       [ 90.        ],\n       [ 90.        ],\n       [100.        ],\n       [ 70.        ],\n       [ 90.        ],\n       [ 70.        ],\n       [ 80.        ],\n       [ 80.        ],\n       [ 80.        ],\n       [ 90.        ],\n       [ 70.        ],\n       [100.        ],\n       [ 80.        ],\n       [ 80.        ],\n       [ 80.        ],\n       [ 70.        ],\n       [ 80.        ],\n       [ 70.        ],\n       [ 70.        ],\n       [ 60.        ],\n       [100.        ],\n       [ 90.        ],\n       [ 80.        ],\n       [ 80.        ],\n       [ 80.        ],\n       [ 70.        ],\n       [ 90.        ],\n       [ 80.        ],\n       [100.        ],\n       [ 90.        ],\n       [ 80.        ],\n       [ 60.        ],\n       [ 70.        ],\n       [ 80.        ],\n       [ 90.        ],\n       [ 70.        ],\n       [ 80.        ],\n       [ 70.        ],\n       [ 70.        ],\n       [ 80.        ],\n       [ 60.        ],\n       [ 90.        ],\n       [100.        ],\n       [ 90.        ],\n       [ 76.46907216],\n       [ 80.        ],\n       [ 70.        ],\n       [ 80.        ],\n       [ 80.        ],\n       [ 80.        ],\n       [ 90.        ],\n       [ 70.        ],\n       [ 70.        ],\n       [ 70.        ],\n       [ 70.        ],\n       [ 80.        ],\n       [100.        ],\n       [110.        ],\n       [ 70.        ],\n       [100.        ],\n       [ 70.        ],\n       [ 70.        ],\n       [100.        ],\n       [ 70.        ],\n       [ 90.        ],\n       [ 80.        ],\n       [ 60.        ],\n       [140.        ],\n       [180.        ],\n       [ 70.        ],\n       [ 90.        ],\n       [ 60.        ],\n       [ 70.        ],\n       [ 90.        ],\n       [ 80.        ],\n       [ 90.        ],\n       [100.        ],\n       [ 80.        ],\n       [ 70.        ],\n       [ 90.        ],\n       [ 80.        ],\n       [ 60.        ],\n       [ 90.        ],\n       [ 60.        ],\n       [ 80.        ],\n       [ 70.        ],\n       [ 70.        ],\n       [ 70.        ],\n       [ 70.        ],\n       [ 90.        ],\n       [ 60.        ],\n       [ 70.        ],\n       [ 80.        ],\n       [100.        ],\n       [ 90.        ],\n       [ 90.        ],\n       [ 60.        ],\n       [ 90.        ],\n       [ 70.        ],\n       [ 90.        ],\n       [ 50.        ],\n       [ 76.46907216],\n       [100.        ],\n       [100.        ],\n       [ 80.        ],\n       [ 90.        ],\n       [ 60.        ],\n       [ 76.46907216],\n       [ 70.        ],\n       [ 70.        ],\n       [ 70.        ],\n       [ 90.        ],\n       [ 80.        ],\n       [ 90.        ],\n       [ 90.        ],\n       [100.        ],\n       [ 60.        ],\n       [ 60.        ],\n       [ 70.        ],\n       [ 60.        ],\n       [ 90.        ],\n       [ 70.        ],\n       [ 90.        ],\n       [ 90.        ],\n       [ 70.        ],\n       [ 90.        ],\n       [ 70.        ],\n       [ 60.        ],\n       [ 80.        ],\n       [ 60.        ],\n       [ 76.46907216],\n       [ 70.        ],\n       [ 80.        ],\n       [ 76.46907216],\n       [ 80.        ],\n       [ 60.        ],\n       [ 70.        ],\n       [ 70.        ],\n       [ 70.        ],\n       [ 70.        ],\n       [ 70.        ],\n       [ 80.        ],\n       [ 70.        ],\n       [ 70.        ],\n       [ 50.        ],\n       [ 90.        ],\n       [ 80.        ],\n       [ 90.        ],\n       [ 90.        ],\n       [ 90.        ],\n       [ 70.        ],\n       [ 80.        ],\n       [ 70.        ],\n       [ 60.        ],\n       [ 76.46907216],\n       [ 50.        ],\n       [ 76.46907216],\n       [ 76.46907216],\n       [ 60.        ],\n       [ 60.        ],\n       [ 70.        ],\n       [110.        ],\n       [ 90.        ],\n       [ 70.        ],\n       [ 90.        ],\n       [100.        ],\n       [ 80.        ],\n       [100.        ],\n       [ 80.        ],\n       [ 90.        ],\n       [ 70.        ],\n       [ 60.        ],\n       [ 90.        ],\n       [ 90.        ],\n       [ 70.        ],\n       [ 70.        ],\n       [ 70.        ],\n       [ 80.        ],\n       [ 70.        ],\n       [100.        ],\n       [120.        ],\n       [ 70.        ],\n       [ 80.        ],\n       [ 80.        ],\n       [ 76.46907216],\n       [ 70.        ],\n       [100.        ],\n       [ 90.        ],\n       [ 90.        ],\n       [ 80.        ],\n       [ 70.        ],\n       [ 60.        ],\n       [ 90.        ],\n       [ 60.        ],\n       [ 90.        ],\n       [100.        ],\n       [ 80.        ],\n       [ 70.        ],\n       [ 50.        ],\n       [ 60.        ],\n       [ 90.        ],\n       [ 90.        ],\n       [100.        ],\n       [100.        ],\n       [ 70.        ],\n       [ 80.        ],\n       [ 70.        ],\n       [100.        ],\n       [ 90.        ],\n       [ 70.        ],\n       [ 70.        ],\n       [ 70.        ],\n       [ 90.        ],\n       [ 90.        ],\n       [100.        ],\n       [110.        ],\n       [ 90.        ],\n       [ 70.        ],\n       [ 90.        ],\n       [ 80.        ],\n       [ 80.        ],\n       [ 80.        ],\n       [ 80.        ],\n       [ 60.        ],\n       [ 80.        ],\n       [ 80.        ],\n       [ 60.        ],\n       [ 80.        ],\n       [ 80.        ],\n       [ 80.        ],\n       [ 80.        ],\n       [ 80.        ],\n       [ 80.        ],\n       [ 80.        ],\n       [ 80.        ],\n       [ 80.        ],\n       [ 80.        ],\n       [ 80.        ],\n       [ 80.        ],\n       [ 80.        ],\n       [ 80.        ],\n       [ 80.        ],\n       [ 80.        ],\n       [ 80.        ],\n       [ 80.        ],\n       [ 60.        ],\n       [ 60.        ],\n       [ 60.        ],\n       [ 70.        ],\n       [ 80.        ],\n       [ 80.        ],\n       [ 70.        ],\n       [ 70.        ],\n       [ 80.        ],\n       [ 70.        ],\n       [ 70.        ],\n       [ 70.        ],\n       [ 70.        ],\n       [ 70.        ],\n       [ 70.        ],\n       [ 80.        ],\n       [ 80.        ],\n       [ 76.46907216],\n       [ 60.        ],\n       [ 70.        ],\n       [ 70.        ],\n       [ 60.        ],\n       [ 60.        ],\n       [ 60.        ],\n       [ 60.        ],\n       [ 60.        ],\n       [ 70.        ],\n       [ 70.        ],\n       [ 80.        ],\n       [ 80.        ],\n       [ 80.        ],\n       [ 60.        ],\n       [ 80.        ],\n       [ 60.        ],\n       [ 60.        ],\n       [ 60.        ],\n       [ 70.        ],\n       [ 80.        ],\n       [ 70.        ],\n       [ 70.        ],\n       [ 76.46907216],\n       [ 70.        ],\n       [ 70.        ],\n       [ 60.        ],\n       [ 60.        ],\n       [ 60.        ],\n       [ 60.        ],\n       [ 80.        ],\n       [ 80.        ],\n       [ 80.        ],\n       [ 60.        ],\n       [ 60.        ],\n       [ 70.        ],\n       [ 60.        ],\n       [ 80.        ],\n       [ 70.        ],\n       [ 70.        ],\n       [ 80.        ],\n       [ 80.        ],\n       [ 60.        ],\n       [ 60.        ],\n       [ 70.        ],\n       [ 80.        ],\n       [ 70.        ],\n       [ 70.        ],\n       [ 70.        ],\n       [ 60.        ],\n       [ 60.        ],\n       [ 60.        ],\n       [ 60.        ],\n       [ 60.        ],\n       [ 60.        ],\n       [ 80.        ],\n       [ 70.        ],\n       [ 70.        ],\n       [ 80.        ],\n       [ 60.        ],\n       [ 60.        ],\n       [ 60.        ],\n       [ 60.        ],\n       [ 70.        ],\n       [ 70.        ],\n       [ 60.        ],\n       [ 60.        ],\n       [ 60.        ],\n       [ 80.        ],\n       [ 80.        ],\n       [ 80.        ],\n       [ 80.        ],\n       [ 80.        ],\n       [ 80.        ],\n       [ 60.        ],\n       [ 80.        ],\n       [ 70.        ],\n       [ 70.        ],\n       [ 60.        ],\n       [ 60.        ],\n       [ 70.        ],\n       [ 80.        ],\n       [ 80.        ],\n       [ 70.        ],\n       [ 70.        ],\n       [ 60.        ],\n       [ 80.        ],\n       [ 60.        ],\n       [ 70.        ],\n       [ 80.        ],\n       [ 80.        ],\n       [ 60.        ],\n       [ 70.        ],\n       [ 70.        ],\n       [ 80.        ],\n       [ 80.        ],\n       [ 80.        ],\n       [ 80.        ],\n       [ 80.        ],\n       [ 80.        ],\n       [ 60.        ],\n       [ 80.        ],\n       [ 80.        ],\n       [ 70.        ],\n       [ 80.        ],\n       [ 60.        ],\n       [ 80.        ]]),)"
          ]
        }
      ],
      "source": [
        "##---------Type the code below this line------------------##\n",
        "\n",
        "#4. Chi-Squared Test:\n",
        "#Chi_Mat = np.zeros((len(X.columns) , len(X.columns) ))\n",
        "#display(X['dm'])\n",
        "#range(0,len(X.columns))\n",
        "Chi_Mat = pd.DataFrame(data=[(0 for i in range(len(X.columns))) for i in range(len(X.columns))], columns=list(X.columns))\n",
        "Chi_Mat.set_index(pd.Index(list(X.columns)), inplace = True)\n",
        "for i in list(X.columns):\n",
        "    for j in list(X.columns):\n",
        "        if i!=j:\n",
        "            chi2_val, p_val = chi2(np.array(X[i]).reshape(-1, 1), np.array(X[j]).reshape(-1, 1))\n",
        "            Chi_Mat.loc[i,j] = chi2_val\n",
        "        else:\n",
        "            Chi_Mat.loc[i,j] = 1\n",
        "            "
      ]
    },
    {
      "cell_type": "markdown",
      "id": "06f1173c",
      "metadata": {
        "id": "06f1173c"
      },
      "source": [
        "## 5.3 Train a “DecisionTreeClassifier” on the entire data and use the classifier to extract the top 5 significant features. Plot graph of significant features for better visualization."
      ]
    },
    {
      "cell_type": "code",
      "execution_count": null,
      "id": "ff644636",
      "metadata": {
        "id": "ff644636"
      },
      "outputs": [],
      "source": [
        "##---------Type the code below this line------------------##\n",
        "# Train the classifier model\n",
        "def train_classifier(Preprocessed_DF_X, y):\n",
        "\n",
        "    # Split the dataset for training an testing\n",
        "    x_train, x_test, y_train, y_test = train_test_split(Preprocessed_DF_X, y, test_size=0.33)\n",
        "\n",
        "    # Train the classifier\n",
        "    dt = DecisionTreeClassifier(random_state = 0)\n",
        "    dt.fit(x_train,y_train)\n",
        "    print(\"score :\",dt.score(x_test,y_test))\n",
        "\n",
        "    return dt\n",
        "    \n",
        "def plot_decision_tree(dt, features):\n",
        "\n",
        "    classes = ['notckd', 'ckd']\n",
        "\n",
        "    # Print the tree to console in text form \n",
        "    tree_text = tree.export_text(dt, feature_names = features)\n",
        "    print(tree_text)\n",
        "\n",
        "    # Plot the tree and save it\n",
        "    fig = plt.figure(figsize=(25,20))\n",
        "    my_tree = tree.plot_tree(dt, feature_names = features, class_names = classes, filled = True)\n",
        "    fig.savefig(\"decision_tree.png\")\n",
        "\n",
        "decision_tree = train_classifier(extracted_features_df_X, y)\n",
        "#print(extracted_features_df_X)\n",
        "#features = list(extracted_features_df_X)\n",
        "#plot_decision_tree(decision_tree, features)"
      ]
    },
    {
      "cell_type": "markdown",
      "id": "040afed8",
      "metadata": {
        "id": "040afed8"
      },
      "source": [
        "## 5.4 Using \"mlxtend\" library perform SequentialFeatureSelector to identify top 5 features."
      ]
    },
    {
      "cell_type": "code",
      "execution_count": null,
      "id": "7042235d",
      "metadata": {
        "id": "7042235d"
      },
      "outputs": [],
      "source": [
        "##---------Type the code below this line------------------##\n",
        "sfs = SFS(decision_tree, \n",
        "           k_features=5, \n",
        "           forward=False, \n",
        "           floating=True, \n",
        "           verbose=0,\n",
        "           scoring='accuracy',\n",
        "           cv=0)\n",
        "feature_names = list(X.columns)\n",
        "sfs = sfs.fit(X, y, custom_feature_names=feature_names)\n",
        "print(\"Top 5 features are as follows\")\n",
        "display(sfs.subsets_[5].get('feature_names'))"
      ]
    },
    {
      "cell_type": "markdown",
      "id": "eb57940c",
      "metadata": {
        "id": "eb57940c"
      },
      "source": [
        "## 5.5 Conclude the top 3 significant features with necessary justifications."
      ]
    },
    {
      "cell_type": "markdown",
      "id": "324448eb",
      "metadata": {
        "id": "324448eb"
      },
      "source": [
        "From the above analysis we see that our top 3 features are: \n",
        ">* Albumin\n",
        ">* Haemoglobin\n",
        ">* Specific Gravity\n",
        "\n",
        "We have 3 different sources to confirm this from\n",
        "1. Heatmap: In the Heatmap, you will observe that the correlation of Albumin vs Class, Haemoglobin vs Class and Specific Gravity vs Class is highest (Value wise, +ve and -ve correlation is ignored). This shows that these 3 attributes contribute the maximum towards classification\n",
        "\n",
        "2. Scatter Pair Plot: We see that with these attributes plotted against 'class' target variable, the data points are separable\n",
        "\n",
        "3. Univariate Fliters: The Information Gain for the above listed attributes is high which indictes that these attributes are good for Decision Tree classification"
      ]
    }
  ],
  "metadata": {
    "kernelspec": {
      "display_name": "Python 3 (ipykernel)",
      "language": "python",
      "name": "python3"
    },
    "language_info": {
      "codemirror_mode": {
        "name": "ipython",
        "version": 3
      },
      "file_extension": ".py",
      "mimetype": "text/x-python",
      "name": "python",
      "nbconvert_exporter": "python",
      "pygments_lexer": "ipython3",
      "version": "3.8.10"
    },
    "colab": {
      "name": "IDS Assignment.ipynb",
      "provenance": [],
      "collapsed_sections": [],
      "include_colab_link": true
    }
  },
  "nbformat": 4,
  "nbformat_minor": 5
}